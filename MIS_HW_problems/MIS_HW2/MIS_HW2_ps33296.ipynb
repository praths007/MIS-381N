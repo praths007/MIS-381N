{
 "cells": [
  {
   "cell_type": "markdown",
   "metadata": {},
   "source": [
    "## MIS HW2 assignment"
   ]
  },
  {
   "cell_type": "markdown",
   "metadata": {},
   "source": [
    "### UTEID - ps33296"
   ]
  },
  {
   "cell_type": "code",
   "execution_count": 2,
   "metadata": {},
   "outputs": [],
   "source": [
    "import pandas as pd\n",
    "import numpy as np"
   ]
  },
  {
   "cell_type": "markdown",
   "metadata": {},
   "source": [
    "## 1. NYC Restaurants"
   ]
  },
  {
   "cell_type": "code",
   "execution_count": 3,
   "metadata": {},
   "outputs": [],
   "source": [
    "nyc_rest_data = pd.read_csv('NYC_Restaurants.csv', dtype=str, index_col=[0])"
   ]
  },
  {
   "cell_type": "code",
   "execution_count": 4,
   "metadata": {},
   "outputs": [
    {
     "data": {
      "text/html": [
       "<div>\n",
       "<style scoped>\n",
       "    .dataframe tbody tr th:only-of-type {\n",
       "        vertical-align: middle;\n",
       "    }\n",
       "\n",
       "    .dataframe tbody tr th {\n",
       "        vertical-align: top;\n",
       "    }\n",
       "\n",
       "    .dataframe thead th {\n",
       "        text-align: right;\n",
       "    }\n",
       "</style>\n",
       "<table border=\"1\" class=\"dataframe\">\n",
       "  <thead>\n",
       "    <tr style=\"text-align: right;\">\n",
       "      <th></th>\n",
       "      <th>CAMIS</th>\n",
       "      <th>DBA</th>\n",
       "      <th>BORO</th>\n",
       "      <th>BUILDING</th>\n",
       "      <th>STREET</th>\n",
       "      <th>ZIPCODE</th>\n",
       "      <th>PHONE</th>\n",
       "      <th>CUISINE DESCRIPTION</th>\n",
       "      <th>INSPECTION DATE</th>\n",
       "      <th>ACTION</th>\n",
       "      <th>VIOLATION CODE</th>\n",
       "      <th>VIOLATION DESCRIPTION</th>\n",
       "      <th>CRITICAL FLAG</th>\n",
       "      <th>SCORE</th>\n",
       "      <th>GRADE</th>\n",
       "      <th>GRADE DATE</th>\n",
       "      <th>RECORD DATE</th>\n",
       "      <th>INSPECTION TYPE</th>\n",
       "    </tr>\n",
       "  </thead>\n",
       "  <tbody>\n",
       "    <tr>\n",
       "      <th>0</th>\n",
       "      <td>30112340</td>\n",
       "      <td>WENDY'S</td>\n",
       "      <td>BROOKLYN</td>\n",
       "      <td>469</td>\n",
       "      <td>FLATBUSH AVENUE</td>\n",
       "      <td>11225</td>\n",
       "      <td>7182875005</td>\n",
       "      <td>Hamburgers</td>\n",
       "      <td>12/30/2014</td>\n",
       "      <td>Violations were cited in the following area(s).</td>\n",
       "      <td>06C</td>\n",
       "      <td>Food not protected from potential source of co...</td>\n",
       "      <td>Critical</td>\n",
       "      <td>8</td>\n",
       "      <td>A</td>\n",
       "      <td>12/30/2014</td>\n",
       "      <td>02/12/2015</td>\n",
       "      <td>Cycle Inspection / Re-inspection</td>\n",
       "    </tr>\n",
       "    <tr>\n",
       "      <th>1</th>\n",
       "      <td>30112340</td>\n",
       "      <td>WENDY'S</td>\n",
       "      <td>BROOKLYN</td>\n",
       "      <td>469</td>\n",
       "      <td>FLATBUSH AVENUE</td>\n",
       "      <td>11225</td>\n",
       "      <td>7182875005</td>\n",
       "      <td>Hamburgers</td>\n",
       "      <td>12/30/2014</td>\n",
       "      <td>Violations were cited in the following area(s).</td>\n",
       "      <td>10F</td>\n",
       "      <td>Non-food contact surface improperly constructe...</td>\n",
       "      <td>Not Critical</td>\n",
       "      <td>8</td>\n",
       "      <td>A</td>\n",
       "      <td>12/30/2014</td>\n",
       "      <td>02/12/2015</td>\n",
       "      <td>Cycle Inspection / Re-inspection</td>\n",
       "    </tr>\n",
       "    <tr>\n",
       "      <th>2</th>\n",
       "      <td>30112340</td>\n",
       "      <td>WENDY'S</td>\n",
       "      <td>BROOKLYN</td>\n",
       "      <td>469</td>\n",
       "      <td>FLATBUSH AVENUE</td>\n",
       "      <td>11225</td>\n",
       "      <td>7182875005</td>\n",
       "      <td>Hamburgers</td>\n",
       "      <td>11/13/2014</td>\n",
       "      <td>Violations were cited in the following area(s).</td>\n",
       "      <td>04H</td>\n",
       "      <td>Raw, cooked or prepared food is adulterated, c...</td>\n",
       "      <td>Critical</td>\n",
       "      <td>16</td>\n",
       "      <td>NaN</td>\n",
       "      <td>NaN</td>\n",
       "      <td>02/12/2015</td>\n",
       "      <td>Cycle Inspection / Initial Inspection</td>\n",
       "    </tr>\n",
       "  </tbody>\n",
       "</table>\n",
       "</div>"
      ],
      "text/plain": [
       "      CAMIS      DBA      BORO BUILDING           STREET ZIPCODE       PHONE  \\\n",
       "0  30112340  WENDY'S  BROOKLYN      469  FLATBUSH AVENUE   11225  7182875005   \n",
       "1  30112340  WENDY'S  BROOKLYN      469  FLATBUSH AVENUE   11225  7182875005   \n",
       "2  30112340  WENDY'S  BROOKLYN      469  FLATBUSH AVENUE   11225  7182875005   \n",
       "\n",
       "  CUISINE DESCRIPTION INSPECTION DATE  \\\n",
       "0          Hamburgers      12/30/2014   \n",
       "1          Hamburgers      12/30/2014   \n",
       "2          Hamburgers      11/13/2014   \n",
       "\n",
       "                                            ACTION VIOLATION CODE  \\\n",
       "0  Violations were cited in the following area(s).            06C   \n",
       "1  Violations were cited in the following area(s).            10F   \n",
       "2  Violations were cited in the following area(s).            04H   \n",
       "\n",
       "                               VIOLATION DESCRIPTION CRITICAL FLAG SCORE  \\\n",
       "0  Food not protected from potential source of co...      Critical     8   \n",
       "1  Non-food contact surface improperly constructe...  Not Critical     8   \n",
       "2  Raw, cooked or prepared food is adulterated, c...      Critical    16   \n",
       "\n",
       "  GRADE  GRADE DATE RECORD DATE                        INSPECTION TYPE  \n",
       "0     A  12/30/2014  02/12/2015       Cycle Inspection / Re-inspection  \n",
       "1     A  12/30/2014  02/12/2015       Cycle Inspection / Re-inspection  \n",
       "2   NaN         NaN  02/12/2015  Cycle Inspection / Initial Inspection  "
      ]
     },
     "execution_count": 4,
     "metadata": {},
     "output_type": "execute_result"
    }
   ],
   "source": [
    "nyc_rest_data.head(3)"
   ]
  },
  {
   "cell_type": "markdown",
   "metadata": {},
   "source": [
    "## Q1. Create a unique name for each restaurant"
   ]
  },
  {
   "cell_type": "code",
   "execution_count": 5,
   "metadata": {},
   "outputs": [],
   "source": [
    "nyc_rest_data['RESTAURANT'] = nyc_rest_data['DBA'] +' '+ nyc_rest_data['BUILDING'] +' '+ nyc_rest_data['STREET'] +' '+ \\\n",
    "                              nyc_rest_data['ZIPCODE'] +' '+ nyc_rest_data['ZIPCODE'] +' '+ nyc_rest_data['BORO']"
   ]
  },
  {
   "cell_type": "code",
   "execution_count": 6,
   "metadata": {},
   "outputs": [
    {
     "name": "stdout",
     "output_type": "stream",
     "text": [
      "0     WENDY'S 469 FLATBUSH AVENUE 11225 11225 BROOKLYN\n",
      "1     WENDY'S 469 FLATBUSH AVENUE 11225 11225 BROOKLYN\n",
      "2     WENDY'S 469 FLATBUSH AVENUE 11225 11225 BROOKLYN\n",
      "3     WENDY'S 469 FLATBUSH AVENUE 11225 11225 BROOKLYN\n",
      "4     WENDY'S 469 FLATBUSH AVENUE 11225 11225 BROOKLYN\n",
      "5    TOV KOSHER KITCHEN 97-22 63 ROAD 11374 11374 Q...\n",
      "6    TOV KOSHER KITCHEN 97-22 63 ROAD 11374 11374 Q...\n",
      "7    TOV KOSHER KITCHEN 97-22 63 ROAD 11374 11374 Q...\n",
      "8    TOV KOSHER KITCHEN 97-22 63 ROAD 11374 11374 Q...\n",
      "9    BRUNOS ON THE BOULEVARD 8825 ASTORIA BOULEVARD...\n",
      "Name: RESTAURANT, dtype: object\n"
     ]
    }
   ],
   "source": [
    "print(nyc_rest_data['RESTAURANT'].head(10))"
   ]
  },
  {
   "cell_type": "markdown",
   "metadata": {},
   "source": [
    "## Q2. How many restaurants are included in the data"
   ]
  },
  {
   "cell_type": "code",
   "execution_count": 7,
   "metadata": {},
   "outputs": [
    {
     "data": {
      "text/plain": [
       "10114"
      ]
     },
     "execution_count": 7,
     "metadata": {},
     "output_type": "execute_result"
    }
   ],
   "source": [
    "# of unique restaurants in the data\n",
    "len(nyc_rest_data['RESTAURANT'].unique())"
   ]
  },
  {
   "cell_type": "markdown",
   "metadata": {},
   "source": [
    "## Q3. How many chains are there"
   ]
  },
  {
   "cell_type": "code",
   "execution_count": 8,
   "metadata": {},
   "outputs": [
    {
     "data": {
      "text/plain": [
       "368"
      ]
     },
     "execution_count": 8,
     "metadata": {},
     "output_type": "execute_result"
    }
   ],
   "source": [
    "# of chains\n",
    "count_rest = nyc_rest_data[['DBA','RESTAURANT']].drop_duplicates()['DBA'].value_counts()\n",
    "chain_rest = count_rest[count_rest>1]\n",
    "len(chain_rest)"
   ]
  },
  {
   "cell_type": "code",
   "execution_count": 9,
   "metadata": {},
   "outputs": [
    {
     "data": {
      "text/plain": [
       "SUBWAY                                             144\n",
       "MCDONALD'S                                          79\n",
       "STARBUCKS COFFEE                                    74\n",
       "DUNKIN' DONUTS                                      69\n",
       "DUNKIN DONUTS                                       64\n",
       "                                                  ... \n",
       "FIVE GUYS BURGERS & FRIES                            2\n",
       "TASTY DELICIOUS WEST INDIAN BAKERY & RESTAURANT      2\n",
       "HARU                                                 2\n",
       "CHATIME                                              2\n",
       "JOY BURGER BAR                                       2\n",
       "Name: DBA, Length: 368, dtype: int64"
      ]
     },
     "execution_count": 9,
     "metadata": {},
     "output_type": "execute_result"
    }
   ],
   "source": [
    "chain_rest"
   ]
  },
  {
   "cell_type": "markdown",
   "metadata": {},
   "source": [
    "## Q4. Plot a bar graph of the top 20 most popular chains"
   ]
  },
  {
   "cell_type": "code",
   "execution_count": 11,
   "metadata": {},
   "outputs": [
    {
     "data": {
      "text/plain": [
       "<matplotlib.axes._subplots.AxesSubplot at 0x7fd487cb8d68>"
      ]
     },
     "execution_count": 11,
     "metadata": {},
     "output_type": "execute_result"
    },
    {
     "data": {
      "image/png": "[encoded data removed]",
      "text/plain": [
       "<Figure size 432x288 with 1 Axes>"
      ]
     },
     "metadata": {
      "needs_background": "light"
     },
     "output_type": "display_data"
    }
   ],
   "source": [
    "chain_rest[:20].plot(kind='bar')"
   ]
  },
  {
   "cell_type": "markdown",
   "metadata": {},
   "source": [
    "## Q5. What fraction of all restaurants are chain restaurants? "
   ]
  },
  {
   "cell_type": "code",
   "execution_count": 12,
   "metadata": {},
   "outputs": [],
   "source": [
    "n_individual_chain_rest = nyc_rest_data[['DBA','RESTAURANT']].drop_duplicates()[\\\n",
    "                        nyc_rest_data[['DBA','RESTAURANT']].drop_duplicates()['DBA'].isin(chain_rest.index.tolist())].shape[0]"
   ]
  },
  {
   "cell_type": "code",
   "execution_count": 13,
   "metadata": {},
   "outputs": [
    {
     "data": {
      "text/plain": [
       "0.16472216729286138"
      ]
     },
     "execution_count": 13,
     "metadata": {},
     "output_type": "execute_result"
    }
   ],
   "source": [
    "# Change this\n",
    "n_individual_chain_rest/len(nyc_rest_data['RESTAURANT'].unique())"
   ]
  },
  {
   "cell_type": "markdown",
   "metadata": {},
   "source": [
    "## Q6. Plot the number of non-chain restaurants in each boro"
   ]
  },
  {
   "cell_type": "code",
   "execution_count": 14,
   "metadata": {},
   "outputs": [],
   "source": [
    "non_chain_DBA = count_rest[count_rest<= 1].index.tolist()"
   ]
  },
  {
   "cell_type": "code",
   "execution_count": 15,
   "metadata": {},
   "outputs": [],
   "source": [
    "boro_rest = nyc_rest_data[nyc_rest_data['DBA'].isin(non_chain_DBA)][['BORO', 'RESTAURANT']].drop_duplicates()"
   ]
  },
  {
   "cell_type": "code",
   "execution_count": 16,
   "metadata": {},
   "outputs": [
    {
     "data": {
      "text/plain": [
       "<matplotlib.axes._subplots.AxesSubplot at 0x7fd47f6fa0f0>"
      ]
     },
     "execution_count": 16,
     "metadata": {},
     "output_type": "execute_result"
    },
    {
     "data": {
      "image/png": "[encoded data removed]",
      "text/plain": [
       "<Figure size 432x288 with 1 Axes>"
      ]
     },
     "metadata": {
      "needs_background": "light"
     },
     "output_type": "display_data"
    }
   ],
   "source": [
    "non_chain_rest_per_boro = boro_rest['BORO'].value_counts()[:-1]\n",
    "non_chain_rest_per_boro.plot(kind = 'bar')"
   ]
  },
  {
   "cell_type": "markdown",
   "metadata": {},
   "source": [
    "## Q7. Plot the fraction of non-chain restaurants in each boro"
   ]
  },
  {
   "cell_type": "code",
   "execution_count": 17,
   "metadata": {},
   "outputs": [],
   "source": [
    "total_rest_per_boro = nyc_rest_data[['BORO','RESTAURANT']].drop_duplicates()['BORO'].value_counts()[:-1]"
   ]
  },
  {
   "cell_type": "code",
   "execution_count": 18,
   "metadata": {},
   "outputs": [
    {
     "data": {
      "text/plain": [
       "<matplotlib.axes._subplots.AxesSubplot at 0x7fd47f6f5898>"
      ]
     },
     "execution_count": 18,
     "metadata": {},
     "output_type": "execute_result"
    },
    {
     "data": {
      "image/png": "[encoded data removed]",
      "text/plain": [
       "<Figure size 432x288 with 1 Axes>"
      ]
     },
     "metadata": {
      "needs_background": "light"
     },
     "output_type": "display_data"
    }
   ],
   "source": [
    "(non_chain_rest_per_boro / total_rest_per_boro).plot(kind='bar')"
   ]
  },
  {
   "cell_type": "raw",
   "metadata": {},
   "source": [
    "## Brooklyn has the highest ratio of independent restaurants whereas, manhattan has the highest number of independent restaurants"
   ]
  },
  {
   "cell_type": "markdown",
   "metadata": {},
   "source": [
    "## Q8. Plot the popularity of cuisines"
   ]
  },
  {
   "cell_type": "code",
   "execution_count": 19,
   "metadata": {},
   "outputs": [
    {
     "data": {
      "text/plain": [
       "<matplotlib.axes._subplots.AxesSubplot at 0x7fd47f662470>"
      ]
     },
     "execution_count": 19,
     "metadata": {},
     "output_type": "execute_result"
    },
    {
     "data": {
      "image/png": "[encoded data removed]",
      "text/plain": [
       "<Figure size 432x288 with 1 Axes>"
      ]
     },
     "metadata": {
      "needs_background": "light"
     },
     "output_type": "display_data"
    }
   ],
   "source": [
    "popular_cuisines_top_20 = nyc_rest_data[['CUISINE DESCRIPTION', 'RESTAURANT']].drop_duplicates()['CUISINE DESCRIPTION'].value_counts()\n",
    "popular_cuisines_top_20[:20].plot(kind='bar')"
   ]
  },
  {
   "cell_type": "markdown",
   "metadata": {},
   "source": [
    "## Q9.  Plot the cuisines among restaurants which never got cited for violations"
   ]
  },
  {
   "cell_type": "code",
   "execution_count": 20,
   "metadata": {},
   "outputs": [],
   "source": [
    "cusine_violation = nyc_rest_data[['CUISINE DESCRIPTION', 'RESTAURANT', 'VIOLATION CODE']]"
   ]
  },
  {
   "cell_type": "code",
   "execution_count": 21,
   "metadata": {},
   "outputs": [
    {
     "data": {
      "text/html": [
       "<div>\n",
       "<style scoped>\n",
       "    .dataframe tbody tr th:only-of-type {\n",
       "        vertical-align: middle;\n",
       "    }\n",
       "\n",
       "    .dataframe tbody tr th {\n",
       "        vertical-align: top;\n",
       "    }\n",
       "\n",
       "    .dataframe thead th {\n",
       "        text-align: right;\n",
       "    }\n",
       "</style>\n",
       "<table border=\"1\" class=\"dataframe\">\n",
       "  <thead>\n",
       "    <tr style=\"text-align: right;\">\n",
       "      <th></th>\n",
       "      <th>CUISINE DESCRIPTION</th>\n",
       "      <th>RESTAURANT</th>\n",
       "      <th>VIOLATION CODE</th>\n",
       "    </tr>\n",
       "  </thead>\n",
       "  <tbody>\n",
       "    <tr>\n",
       "      <th>0</th>\n",
       "      <td>Hamburgers</td>\n",
       "      <td>WENDY'S 469 FLATBUSH AVENUE 11225 11225 BROOKLYN</td>\n",
       "      <td>06C</td>\n",
       "    </tr>\n",
       "    <tr>\n",
       "      <th>1</th>\n",
       "      <td>Hamburgers</td>\n",
       "      <td>WENDY'S 469 FLATBUSH AVENUE 11225 11225 BROOKLYN</td>\n",
       "      <td>10F</td>\n",
       "    </tr>\n",
       "    <tr>\n",
       "      <th>2</th>\n",
       "      <td>Hamburgers</td>\n",
       "      <td>WENDY'S 469 FLATBUSH AVENUE 11225 11225 BROOKLYN</td>\n",
       "      <td>04H</td>\n",
       "    </tr>\n",
       "    <tr>\n",
       "      <th>3</th>\n",
       "      <td>Hamburgers</td>\n",
       "      <td>WENDY'S 469 FLATBUSH AVENUE 11225 11225 BROOKLYN</td>\n",
       "      <td>06A</td>\n",
       "    </tr>\n",
       "    <tr>\n",
       "      <th>4</th>\n",
       "      <td>Hamburgers</td>\n",
       "      <td>WENDY'S 469 FLATBUSH AVENUE 11225 11225 BROOKLYN</td>\n",
       "      <td>10F</td>\n",
       "    </tr>\n",
       "  </tbody>\n",
       "</table>\n",
       "</div>"
      ],
      "text/plain": [
       "  CUISINE DESCRIPTION                                        RESTAURANT  \\\n",
       "0          Hamburgers  WENDY'S 469 FLATBUSH AVENUE 11225 11225 BROOKLYN   \n",
       "1          Hamburgers  WENDY'S 469 FLATBUSH AVENUE 11225 11225 BROOKLYN   \n",
       "2          Hamburgers  WENDY'S 469 FLATBUSH AVENUE 11225 11225 BROOKLYN   \n",
       "3          Hamburgers  WENDY'S 469 FLATBUSH AVENUE 11225 11225 BROOKLYN   \n",
       "4          Hamburgers  WENDY'S 469 FLATBUSH AVENUE 11225 11225 BROOKLYN   \n",
       "\n",
       "  VIOLATION CODE  \n",
       "0            06C  \n",
       "1            10F  \n",
       "2            04H  \n",
       "3            06A  \n",
       "4            10F  "
      ]
     },
     "execution_count": 21,
     "metadata": {},
     "output_type": "execute_result"
    }
   ],
   "source": [
    "cusine_violation.head(5)"
   ]
  },
  {
   "cell_type": "code",
   "execution_count": 22,
   "metadata": {},
   "outputs": [],
   "source": [
    "unique_non_violation_rest = cusine_violation[cusine_violation['VIOLATION CODE'].isnull()]['RESTAURANT'].tolist()"
   ]
  },
  {
   "cell_type": "code",
   "execution_count": 23,
   "metadata": {},
   "outputs": [],
   "source": [
    "cited_atleast_once = nyc_rest_data['RESTAURANT'][nyc_rest_data[['CUISINE DESCRIPTION', 'RESTAURANT', 'VIOLATION CODE']]['VIOLATION CODE'].notnull()].drop_duplicates()"
   ]
  },
  {
   "cell_type": "code",
   "execution_count": 24,
   "metadata": {},
   "outputs": [],
   "source": [
    "never_cited_restaurants = set(unique_non_violation_rest).difference(set(cited_atleast_once))"
   ]
  },
  {
   "cell_type": "code",
   "execution_count": 25,
   "metadata": {},
   "outputs": [
    {
     "data": {
      "text/plain": [
       "<matplotlib.axes._subplots.AxesSubplot at 0x7fd47f596b70>"
      ]
     },
     "execution_count": 25,
     "metadata": {},
     "output_type": "execute_result"
    },
    {
     "data": {
      "image/png": "[encoded data removed]",
      "text/plain": [
       "<Figure size 432x288 with 1 Axes>"
      ]
     },
     "metadata": {
      "needs_background": "light"
     },
     "output_type": "display_data"
    }
   ],
   "source": [
    "cuisines_never_cited = cusine_violation[cusine_violation['RESTAURANT'].isin(never_cited_restaurants)][['CUISINE DESCRIPTION', 'RESTAURANT']]\\\n",
    ".drop_duplicates()['CUISINE DESCRIPTION'].value_counts()\n",
    "cuisines_never_cited[:20].plot(kind='bar')"
   ]
  },
  {
   "cell_type": "markdown",
   "metadata": {},
   "source": [
    "## Q.10. What cuisines tend to be the “cleanest”"
   ]
  },
  {
   "cell_type": "code",
   "execution_count": 26,
   "metadata": {},
   "outputs": [],
   "source": [
    "cuisine_list = nyc_rest_data[['CUISINE DESCRIPTION', 'RESTAURANT']].drop_duplicates()['CUISINE DESCRIPTION'].value_counts()"
   ]
  },
  {
   "cell_type": "code",
   "execution_count": 27,
   "metadata": {},
   "outputs": [],
   "source": [
    "atleast_20_cuisines = cuisine_list[cuisine_list>=20]"
   ]
  },
  {
   "cell_type": "code",
   "execution_count": 28,
   "metadata": {},
   "outputs": [],
   "source": [
    "cuisines_never_cited_in_atleast20 = cuisines_never_cited[cuisines_never_cited.where(cuisines_never_cited.index.isin(atleast_20_cuisines.index.tolist())).notnull()]"
   ]
  },
  {
   "cell_type": "code",
   "execution_count": 29,
   "metadata": {},
   "outputs": [],
   "source": [
    "popular_cuisines_top_20_atleast_20 = popular_cuisines_top_20[popular_cuisines_top_20.where(popular_cuisines_top_20.index.isin(atleast_20_cuisines.index.tolist())).notnull()]"
   ]
  },
  {
   "cell_type": "code",
   "execution_count": 30,
   "metadata": {},
   "outputs": [],
   "source": [
    "merged = pd.merge(cuisines_never_cited_in_atleast20, popular_cuisines_top_20_atleast_20, left_index=True, right_index=True, suffixes=['_never_cited','_popular'])"
   ]
  },
  {
   "cell_type": "code",
   "execution_count": 31,
   "metadata": {},
   "outputs": [],
   "source": [
    "merged['ratio'] = merged['CUISINE DESCRIPTION_never_cited'] / merged['CUISINE DESCRIPTION_popular']"
   ]
  },
  {
   "cell_type": "code",
   "execution_count": 32,
   "metadata": {},
   "outputs": [
    {
     "data": {
      "text/html": [
       "<div>\n",
       "<style scoped>\n",
       "    .dataframe tbody tr th:only-of-type {\n",
       "        vertical-align: middle;\n",
       "    }\n",
       "\n",
       "    .dataframe tbody tr th {\n",
       "        vertical-align: top;\n",
       "    }\n",
       "\n",
       "    .dataframe thead th {\n",
       "        text-align: right;\n",
       "    }\n",
       "</style>\n",
       "<table border=\"1\" class=\"dataframe\">\n",
       "  <thead>\n",
       "    <tr style=\"text-align: right;\">\n",
       "      <th></th>\n",
       "      <th>CUISINE DESCRIPTION_never_cited</th>\n",
       "      <th>CUISINE DESCRIPTION_popular</th>\n",
       "      <th>ratio</th>\n",
       "    </tr>\n",
       "  </thead>\n",
       "  <tbody>\n",
       "    <tr>\n",
       "      <th>Soul Food</th>\n",
       "      <td>2</td>\n",
       "      <td>22</td>\n",
       "      <td>0.090909</td>\n",
       "    </tr>\n",
       "    <tr>\n",
       "      <th>Vietnamese/Cambodian/Malaysia</th>\n",
       "      <td>2</td>\n",
       "      <td>32</td>\n",
       "      <td>0.062500</td>\n",
       "    </tr>\n",
       "    <tr>\n",
       "      <th>Other</th>\n",
       "      <td>6</td>\n",
       "      <td>103</td>\n",
       "      <td>0.058252</td>\n",
       "    </tr>\n",
       "    <tr>\n",
       "      <th>Barbecue</th>\n",
       "      <td>1</td>\n",
       "      <td>21</td>\n",
       "      <td>0.047619</td>\n",
       "    </tr>\n",
       "    <tr>\n",
       "      <th>Soups &amp; Sandwiches</th>\n",
       "      <td>1</td>\n",
       "      <td>21</td>\n",
       "      <td>0.047619</td>\n",
       "    </tr>\n",
       "    <tr>\n",
       "      <th>Continental</th>\n",
       "      <td>1</td>\n",
       "      <td>21</td>\n",
       "      <td>0.047619</td>\n",
       "    </tr>\n",
       "    <tr>\n",
       "      <th>Asian</th>\n",
       "      <td>6</td>\n",
       "      <td>146</td>\n",
       "      <td>0.041096</td>\n",
       "    </tr>\n",
       "    <tr>\n",
       "      <th>Chinese</th>\n",
       "      <td>42</td>\n",
       "      <td>1098</td>\n",
       "      <td>0.038251</td>\n",
       "    </tr>\n",
       "    <tr>\n",
       "      <th>Greek</th>\n",
       "      <td>2</td>\n",
       "      <td>55</td>\n",
       "      <td>0.036364</td>\n",
       "    </tr>\n",
       "    <tr>\n",
       "      <th>Peruvian</th>\n",
       "      <td>1</td>\n",
       "      <td>28</td>\n",
       "      <td>0.035714</td>\n",
       "    </tr>\n",
       "  </tbody>\n",
       "</table>\n",
       "</div>"
      ],
      "text/plain": [
       "                               CUISINE DESCRIPTION_never_cited  \\\n",
       "Soul Food                                                    2   \n",
       "Vietnamese/Cambodian/Malaysia                                2   \n",
       "Other                                                        6   \n",
       "Barbecue                                                     1   \n",
       "Soups & Sandwiches                                           1   \n",
       "Continental                                                  1   \n",
       "Asian                                                        6   \n",
       "Chinese                                                     42   \n",
       "Greek                                                        2   \n",
       "Peruvian                                                     1   \n",
       "\n",
       "                               CUISINE DESCRIPTION_popular     ratio  \n",
       "Soul Food                                               22  0.090909  \n",
       "Vietnamese/Cambodian/Malaysia                           32  0.062500  \n",
       "Other                                                  103  0.058252  \n",
       "Barbecue                                                21  0.047619  \n",
       "Soups & Sandwiches                                      21  0.047619  \n",
       "Continental                                             21  0.047619  \n",
       "Asian                                                  146  0.041096  \n",
       "Chinese                                               1098  0.038251  \n",
       "Greek                                                   55  0.036364  \n",
       "Peruvian                                                28  0.035714  "
      ]
     },
     "execution_count": 32,
     "metadata": {},
     "output_type": "execute_result"
    }
   ],
   "source": [
    "merged.sort_values(by=['ratio'], ascending=False)[:10]"
   ]
  },
  {
   "cell_type": "markdown",
   "metadata": {},
   "source": [
    "## Q.11. What are the most common violations in each borough? "
   ]
  },
  {
   "cell_type": "code",
   "execution_count": 75,
   "metadata": {},
   "outputs": [
    {
     "data": {
      "text/plain": [
       "BORO           VIOLATION DESCRIPTION                                                                                                                                                                                                                                                          \n",
       "STATEN ISLAND  Non-food contact surface improperly constructed. Unacceptable material used. Non-food contact surface or equipment improperly maintained and/or not properly sealed, raised, spaced or movable to allow accessibility for cleaning on all sides, above and underneath the unit.     230\n",
       "BRONX          Non-food contact surface improperly constructed. Unacceptable material used. Non-food contact surface or equipment improperly maintained and/or not properly sealed, raised, spaced or movable to allow accessibility for cleaning on all sides, above and underneath the unit.     500\n",
       "QUEENS         Non-food contact surface improperly constructed. Unacceptable material used. Non-food contact surface or equipment improperly maintained and/or not properly sealed, raised, spaced or movable to allow accessibility for cleaning on all sides, above and underneath the unit.    1416\n",
       "BROOKLYN       Non-food contact surface improperly constructed. Unacceptable material used. Non-food contact surface or equipment improperly maintained and/or not properly sealed, raised, spaced or movable to allow accessibility for cleaning on all sides, above and underneath the unit.    1485\n",
       "MANHATTAN      Non-food contact surface improperly constructed. Unacceptable material used. Non-food contact surface or equipment improperly maintained and/or not properly sealed, raised, spaced or movable to allow accessibility for cleaning on all sides, above and underneath the unit.    2417\n",
       "Name: VIOLATION DESCRIPTION, dtype: int64"
      ]
     },
     "execution_count": 75,
     "metadata": {},
     "output_type": "execute_result"
    }
   ],
   "source": [
    "nyc_rest_data[['VIOLATION DESCRIPTION', 'BORO']].groupby(['BORO', 'VIOLATION DESCRIPTION'])['VIOLATION DESCRIPTION']\\\n",
    "                                            .agg('count').sort_values().groupby(level=0).tail(1)[1:]['BORO']"
   ]
  },
  {
   "cell_type": "code",
   "execution_count": 73,
   "metadata": {},
   "outputs": [
    {
     "data": {
      "text/html": [
       "<div>\n",
       "<style scoped>\n",
       "    .dataframe tbody tr th:only-of-type {\n",
       "        vertical-align: middle;\n",
       "    }\n",
       "\n",
       "    .dataframe tbody tr th {\n",
       "        vertical-align: top;\n",
       "    }\n",
       "\n",
       "    .dataframe thead th {\n",
       "        text-align: right;\n",
       "    }\n",
       "</style>\n",
       "<table border=\"1\" class=\"dataframe\">\n",
       "  <thead>\n",
       "    <tr style=\"text-align: right;\">\n",
       "      <th></th>\n",
       "      <th></th>\n",
       "      <th>VIOLATION DESCRIPTION</th>\n",
       "    </tr>\n",
       "    <tr>\n",
       "      <th>BORO</th>\n",
       "      <th>VIOLATION DESCRIPTION</th>\n",
       "      <th></th>\n",
       "    </tr>\n",
       "  </thead>\n",
       "  <tbody>\n",
       "    <tr>\n",
       "      <th>Missing</th>\n",
       "      <th>Non-food contact surface improperly constructed. Unacceptable material used. Non-food contact surface or equipment improperly maintained and/or not properly sealed, raised, spaced or movable to allow accessibility for cleaning on all sides, above and underneath the unit.</th>\n",
       "      <td>8</td>\n",
       "    </tr>\n",
       "    <tr>\n",
       "      <th>STATEN ISLAND</th>\n",
       "      <th>Non-food contact surface improperly constructed. Unacceptable material used. Non-food contact surface or equipment improperly maintained and/or not properly sealed, raised, spaced or movable to allow accessibility for cleaning on all sides, above and underneath the unit.</th>\n",
       "      <td>230</td>\n",
       "    </tr>\n",
       "    <tr>\n",
       "      <th>BRONX</th>\n",
       "      <th>Non-food contact surface improperly constructed. Unacceptable material used. Non-food contact surface or equipment improperly maintained and/or not properly sealed, raised, spaced or movable to allow accessibility for cleaning on all sides, above and underneath the unit.</th>\n",
       "      <td>500</td>\n",
       "    </tr>\n",
       "    <tr>\n",
       "      <th>QUEENS</th>\n",
       "      <th>Non-food contact surface improperly constructed. Unacceptable material used. Non-food contact surface or equipment improperly maintained and/or not properly sealed, raised, spaced or movable to allow accessibility for cleaning on all sides, above and underneath the unit.</th>\n",
       "      <td>1416</td>\n",
       "    </tr>\n",
       "    <tr>\n",
       "      <th>BROOKLYN</th>\n",
       "      <th>Non-food contact surface improperly constructed. Unacceptable material used. Non-food contact surface or equipment improperly maintained and/or not properly sealed, raised, spaced or movable to allow accessibility for cleaning on all sides, above and underneath the unit.</th>\n",
       "      <td>1485</td>\n",
       "    </tr>\n",
       "    <tr>\n",
       "      <th>MANHATTAN</th>\n",
       "      <th>Non-food contact surface improperly constructed. Unacceptable material used. Non-food contact surface or equipment improperly maintained and/or not properly sealed, raised, spaced or movable to allow accessibility for cleaning on all sides, above and underneath the unit.</th>\n",
       "      <td>2417</td>\n",
       "    </tr>\n",
       "  </tbody>\n",
       "</table>\n",
       "</div>"
      ],
      "text/plain": [
       "                                                                  VIOLATION DESCRIPTION\n",
       "BORO          VIOLATION DESCRIPTION                                                    \n",
       "Missing       Non-food contact surface improperly constructed...                      8\n",
       "STATEN ISLAND Non-food contact surface improperly constructed...                    230\n",
       "BRONX         Non-food contact surface improperly constructed...                    500\n",
       "QUEENS        Non-food contact surface improperly constructed...                   1416\n",
       "BROOKLYN      Non-food contact surface improperly constructed...                   1485\n",
       "MANHATTAN     Non-food contact surface improperly constructed...                   2417"
      ]
     },
     "execution_count": 73,
     "metadata": {},
     "output_type": "execute_result"
    }
   ],
   "source": []
  },
  {
   "cell_type": "markdown",
   "metadata": {},
   "source": [
    "## Q.12. What are the most common violations per borough, after normalizing for the relative abundance of each violation?"
   ]
  },
  {
   "cell_type": "code",
   "execution_count": 34,
   "metadata": {},
   "outputs": [
    {
     "data": {
      "text/plain": [
       "Non-food contact surface improperly constructed. Unacceptable material used. Non-food contact surface or equipment improperly maintained and/or not properly sealed, raised, spaced or movable to allow accessibility for cleaning on all sides, above and underneath the unit.    6056\n",
       "Facility not vermin proof. Harborage or conditions conducive to attracting vermin to the premises and/or allowing vermin to exist.                                                                                                                                                 4821\n",
       "Evidence of mice or live mice present in facility's food and/or non-food areas.                                                                                                                                                                                                    3358\n",
       "Cold food item held above 41º F (smoked fish and reduced oxygen packaged foods above 38 ºF) except during necessary preparation.                                                                                                                                                   2775\n",
       "Food contact surface not properly washed, rinsed and sanitized after each use and following any activity when contamination may have occurred.                                                                                                                                     2718\n",
       "                                                                                                                                                                                                                                                                                   ... \n",
       "Potable water supply inadequate. Water or ice not potable or from unapproved source.  Cross connection in potable water supply system observed.                                                                                                                                       2\n",
       "Out-of package sale of tobacco products observed.                                                                                                                                                                                                                                     2\n",
       "Harmful, noxious gas or vapor detected. CO ~1 3 ppm.                                                                                                                                                                                                                                  1\n",
       "Raw food not properly washed prior to serving.                                                                                                                                                                                                                                        1\n",
       "Caloric content range (minimum to maximum) not posted on menus and or menu boards for each flavor, variety and size of each menu item that is offered for sale in different flavors, varieties and sizes.                                                                             1\n",
       "Name: VIOLATION DESCRIPTION, Length: 82, dtype: int64"
      ]
     },
     "execution_count": 34,
     "metadata": {},
     "output_type": "execute_result"
    }
   ],
   "source": [
    "violationFrequency = nyc_rest_data['VIOLATION DESCRIPTION'].value_counts()\n",
    "violationFrequency"
   ]
  },
  {
   "cell_type": "code",
   "execution_count": 35,
   "metadata": {},
   "outputs": [
    {
     "data": {
      "text/plain": [
       "BORO           VIOLATION DESCRIPTION                                                                                                                                                                                                                  \n",
       "BRONX          \u001aChoking first aid\u001a poster not posted. \u001aAlcohol and pregnancy\u001a warning sign not posted. Resuscitation equipment: exhaled air resuscitation masks (adult & pediatric), latex gloves, sign not posted. Inspection report sign not posted.    12\n",
       "               ''''No Smoking\u001a and/or 'Smoking Permitted\u001a sign not conspicuously posted. Health warning not present on 'Smoking Permitted\u001a                                                                                                                 1\n",
       "               ''''Wash hands\u001a sign not posted at hand wash facility.                                                                                                                                                                                     21\n",
       "               A food containing artificial trans fat, with 0.5 grams or more of trans fat per serving, is being stored, distributed, held for service, used in preparation of a menu item, or served.                                                     5\n",
       "               Accurate thermometer not provided in refrigerated or hot holding equipment.                                                                                                                                                                21\n",
       "                                                                                                                                                                                                                                                          ..\n",
       "STATEN ISLAND  Toilet facility not maintained and provided with toilet paper, waste receptacle and self-closing door.                                                                                                                                     14\n",
       "               Toilet facility not provided for employees or for patrons when required.                                                                                                                                                                    1\n",
       "               Toilet facility used by women does not have at least one covered garbage receptacle.                                                                                                                                                        1\n",
       "               Toxic chemical improperly labeled, stored or used such that food contamination may occur.                                                                                                                                                   3\n",
       "               Wiping cloths soiled or not stored in sanitizing solution.                                                                                                                                                                                 25\n",
       "Name: VIOLATION DESCRIPTION, Length: 359, dtype: int64"
      ]
     },
     "execution_count": 35,
     "metadata": {},
     "output_type": "execute_result"
    }
   ],
   "source": [
    "violation_count_by_boro = nyc_rest_data[['VIOLATION DESCRIPTION', 'BORO']].groupby(['BORO', 'VIOLATION DESCRIPTION'])['VIOLATION DESCRIPTION']\\\n",
    ".agg('count')\n",
    "violation_count_by_boro"
   ]
  },
  {
   "cell_type": "code",
   "execution_count": 36,
   "metadata": {},
   "outputs": [
    {
     "data": {
      "text/html": [
       "<div>\n",
       "<style scoped>\n",
       "    .dataframe tbody tr th:only-of-type {\n",
       "        vertical-align: middle;\n",
       "    }\n",
       "\n",
       "    .dataframe tbody tr th {\n",
       "        vertical-align: top;\n",
       "    }\n",
       "\n",
       "    .dataframe thead th {\n",
       "        text-align: right;\n",
       "    }\n",
       "</style>\n",
       "<table border=\"1\" class=\"dataframe\">\n",
       "  <thead>\n",
       "    <tr style=\"text-align: right;\">\n",
       "      <th></th>\n",
       "      <th>BORO</th>\n",
       "      <th>VIOLATION DESCRIPTION</th>\n",
       "      <th>COUNT</th>\n",
       "    </tr>\n",
       "  </thead>\n",
       "  <tbody>\n",
       "    <tr>\n",
       "      <th>0</th>\n",
       "      <td>BRONX</td>\n",
       "      <td>\u001aChoking first aid\u001a poster not posted. \u001aAlcoho...</td>\n",
       "      <td>12</td>\n",
       "    </tr>\n",
       "    <tr>\n",
       "      <th>1</th>\n",
       "      <td>BRONX</td>\n",
       "      <td>''''No Smoking\u001a and/or 'Smoking Permitted\u001a sig...</td>\n",
       "      <td>1</td>\n",
       "    </tr>\n",
       "    <tr>\n",
       "      <th>2</th>\n",
       "      <td>BRONX</td>\n",
       "      <td>''''Wash hands\u001a sign not posted at hand wash f...</td>\n",
       "      <td>21</td>\n",
       "    </tr>\n",
       "  </tbody>\n",
       "</table>\n",
       "</div>"
      ],
      "text/plain": [
       "    BORO                              VIOLATION DESCRIPTION  COUNT\n",
       "0  BRONX  \u001aChoking first aid\u001a poster not posted. \u001aAlcoho...     12\n",
       "1  BRONX  ''''No Smoking\u001a and/or 'Smoking Permitted\u001a sig...      1\n",
       "2  BRONX  ''''Wash hands\u001a sign not posted at hand wash f...     21"
      ]
     },
     "execution_count": 36,
     "metadata": {},
     "output_type": "execute_result"
    }
   ],
   "source": [
    "violation_code_count = violation_count_by_boro.to_frame(name='COUNT').reset_index()\n",
    "violation_code_count.head(3)"
   ]
  },
  {
   "cell_type": "code",
   "execution_count": 37,
   "metadata": {},
   "outputs": [
    {
     "data": {
      "text/html": [
       "<div>\n",
       "<style scoped>\n",
       "    .dataframe tbody tr th:only-of-type {\n",
       "        vertical-align: middle;\n",
       "    }\n",
       "\n",
       "    .dataframe tbody tr th {\n",
       "        vertical-align: top;\n",
       "    }\n",
       "\n",
       "    .dataframe thead th {\n",
       "        text-align: right;\n",
       "    }\n",
       "</style>\n",
       "<table border=\"1\" class=\"dataframe\">\n",
       "  <thead>\n",
       "    <tr style=\"text-align: right;\">\n",
       "      <th></th>\n",
       "      <th>index</th>\n",
       "      <th>VIOLATION DESCRIPTION</th>\n",
       "    </tr>\n",
       "  </thead>\n",
       "  <tbody>\n",
       "    <tr>\n",
       "      <th>0</th>\n",
       "      <td>Non-food contact surface improperly constructe...</td>\n",
       "      <td>6056</td>\n",
       "    </tr>\n",
       "    <tr>\n",
       "      <th>1</th>\n",
       "      <td>Facility not vermin proof. Harborage or condit...</td>\n",
       "      <td>4821</td>\n",
       "    </tr>\n",
       "    <tr>\n",
       "      <th>2</th>\n",
       "      <td>Evidence of mice or live mice present in facil...</td>\n",
       "      <td>3358</td>\n",
       "    </tr>\n",
       "  </tbody>\n",
       "</table>\n",
       "</div>"
      ],
      "text/plain": [
       "                                               index  VIOLATION DESCRIPTION\n",
       "0  Non-food contact surface improperly constructe...                   6056\n",
       "1  Facility not vermin proof. Harborage or condit...                   4821\n",
       "2  Evidence of mice or live mice present in facil...                   3358"
      ]
     },
     "execution_count": 37,
     "metadata": {},
     "output_type": "execute_result"
    }
   ],
   "source": [
    "violation_freq_df = violationFrequency.to_frame().reset_index()\n",
    "violation_freq_df.head(3)"
   ]
  },
  {
   "cell_type": "code",
   "execution_count": 38,
   "metadata": {},
   "outputs": [
    {
     "data": {
      "text/html": [
       "<div>\n",
       "<style scoped>\n",
       "    .dataframe tbody tr th:only-of-type {\n",
       "        vertical-align: middle;\n",
       "    }\n",
       "\n",
       "    .dataframe tbody tr th {\n",
       "        vertical-align: top;\n",
       "    }\n",
       "\n",
       "    .dataframe thead th {\n",
       "        text-align: right;\n",
       "    }\n",
       "</style>\n",
       "<table border=\"1\" class=\"dataframe\">\n",
       "  <thead>\n",
       "    <tr style=\"text-align: right;\">\n",
       "      <th></th>\n",
       "      <th>BORO</th>\n",
       "      <th>VIOLATION DESCRIPTION</th>\n",
       "      <th>COUNT</th>\n",
       "      <th>index</th>\n",
       "      <th>VIOLATION DESCRIPTION_right</th>\n",
       "    </tr>\n",
       "  </thead>\n",
       "  <tbody>\n",
       "    <tr>\n",
       "      <th>0</th>\n",
       "      <td>BRONX</td>\n",
       "      <td>\u001aChoking first aid\u001a poster not posted. \u001aAlcoho...</td>\n",
       "      <td>12</td>\n",
       "      <td>\u001aChoking first aid\u001a poster not posted. \u001aAlcoho...</td>\n",
       "      <td>135</td>\n",
       "    </tr>\n",
       "    <tr>\n",
       "      <th>1</th>\n",
       "      <td>BROOKLYN</td>\n",
       "      <td>\u001aChoking first aid\u001a poster not posted. \u001aAlcoho...</td>\n",
       "      <td>40</td>\n",
       "      <td>\u001aChoking first aid\u001a poster not posted. \u001aAlcoho...</td>\n",
       "      <td>135</td>\n",
       "    </tr>\n",
       "    <tr>\n",
       "      <th>2</th>\n",
       "      <td>MANHATTAN</td>\n",
       "      <td>\u001aChoking first aid\u001a poster not posted. \u001aAlcoho...</td>\n",
       "      <td>49</td>\n",
       "      <td>\u001aChoking first aid\u001a poster not posted. \u001aAlcoho...</td>\n",
       "      <td>135</td>\n",
       "    </tr>\n",
       "  </tbody>\n",
       "</table>\n",
       "</div>"
      ],
      "text/plain": [
       "        BORO                              VIOLATION DESCRIPTION  COUNT  \\\n",
       "0      BRONX  \u001aChoking first aid\u001a poster not posted. \u001aAlcoho...     12   \n",
       "1   BROOKLYN  \u001aChoking first aid\u001a poster not posted. \u001aAlcoho...     40   \n",
       "2  MANHATTAN  \u001aChoking first aid\u001a poster not posted. \u001aAlcoho...     49   \n",
       "\n",
       "                                               index  \\\n",
       "0  \u001aChoking first aid\u001a poster not posted. \u001aAlcoho...   \n",
       "1  \u001aChoking first aid\u001a poster not posted. \u001aAlcoho...   \n",
       "2  \u001aChoking first aid\u001a poster not posted. \u001aAlcoho...   \n",
       "\n",
       "   VIOLATION DESCRIPTION_right  \n",
       "0                          135  \n",
       "1                          135  \n",
       "2                          135  "
      ]
     },
     "execution_count": 38,
     "metadata": {},
     "output_type": "execute_result"
    }
   ],
   "source": [
    "violation_code_count_merged = violation_code_count.merge(violation_freq_df, left_on='VIOLATION DESCRIPTION', right_on='index', suffixes=['', '_right'])\n",
    "violation_code_count_merged.head(3)"
   ]
  },
  {
   "cell_type": "code",
   "execution_count": 39,
   "metadata": {},
   "outputs": [
    {
     "data": {
      "text/html": [
       "<div>\n",
       "<style scoped>\n",
       "    .dataframe tbody tr th:only-of-type {\n",
       "        vertical-align: middle;\n",
       "    }\n",
       "\n",
       "    .dataframe tbody tr th {\n",
       "        vertical-align: top;\n",
       "    }\n",
       "\n",
       "    .dataframe thead th {\n",
       "        text-align: right;\n",
       "    }\n",
       "</style>\n",
       "<table border=\"1\" class=\"dataframe\">\n",
       "  <thead>\n",
       "    <tr style=\"text-align: right;\">\n",
       "      <th></th>\n",
       "      <th>BORO</th>\n",
       "      <th>VIOLATION DESCRIPTION</th>\n",
       "      <th>COUNT</th>\n",
       "      <th>index</th>\n",
       "      <th>VIOLATION DESCRIPTION_right</th>\n",
       "      <th>normalized</th>\n",
       "    </tr>\n",
       "  </thead>\n",
       "  <tbody>\n",
       "    <tr>\n",
       "      <th>0</th>\n",
       "      <td>BRONX</td>\n",
       "      <td>\u001aChoking first aid\u001a poster not posted. \u001aAlcoho...</td>\n",
       "      <td>12</td>\n",
       "      <td>\u001aChoking first aid\u001a poster not posted. \u001aAlcoho...</td>\n",
       "      <td>135</td>\n",
       "      <td>0.088889</td>\n",
       "    </tr>\n",
       "    <tr>\n",
       "      <th>1</th>\n",
       "      <td>BROOKLYN</td>\n",
       "      <td>\u001aChoking first aid\u001a poster not posted. \u001aAlcoho...</td>\n",
       "      <td>40</td>\n",
       "      <td>\u001aChoking first aid\u001a poster not posted. \u001aAlcoho...</td>\n",
       "      <td>135</td>\n",
       "      <td>0.296296</td>\n",
       "    </tr>\n",
       "    <tr>\n",
       "      <th>2</th>\n",
       "      <td>MANHATTAN</td>\n",
       "      <td>\u001aChoking first aid\u001a poster not posted. \u001aAlcoho...</td>\n",
       "      <td>49</td>\n",
       "      <td>\u001aChoking first aid\u001a poster not posted. \u001aAlcoho...</td>\n",
       "      <td>135</td>\n",
       "      <td>0.362963</td>\n",
       "    </tr>\n",
       "  </tbody>\n",
       "</table>\n",
       "</div>"
      ],
      "text/plain": [
       "        BORO                              VIOLATION DESCRIPTION  COUNT  \\\n",
       "0      BRONX  \u001aChoking first aid\u001a poster not posted. \u001aAlcoho...     12   \n",
       "1   BROOKLYN  \u001aChoking first aid\u001a poster not posted. \u001aAlcoho...     40   \n",
       "2  MANHATTAN  \u001aChoking first aid\u001a poster not posted. \u001aAlcoho...     49   \n",
       "\n",
       "                                               index  \\\n",
       "0  \u001aChoking first aid\u001a poster not posted. \u001aAlcoho...   \n",
       "1  \u001aChoking first aid\u001a poster not posted. \u001aAlcoho...   \n",
       "2  \u001aChoking first aid\u001a poster not posted. \u001aAlcoho...   \n",
       "\n",
       "   VIOLATION DESCRIPTION_right  normalized  \n",
       "0                          135    0.088889  \n",
       "1                          135    0.296296  \n",
       "2                          135    0.362963  "
      ]
     },
     "execution_count": 39,
     "metadata": {},
     "output_type": "execute_result"
    }
   ],
   "source": [
    "violation_code_count_merged['normalized'] = violation_code_count_merged['COUNT'] / violation_code_count_merged['VIOLATION DESCRIPTION_right']\n",
    "violation_code_count_merged.head(3)"
   ]
  },
  {
   "cell_type": "code",
   "execution_count": 40,
   "metadata": {},
   "outputs": [
    {
     "data": {
      "text/plain": [
       "BORO           VIOLATION DESCRIPTION                                                                                                                                                                                    \n",
       "STATEN ISLAND  Eggs found dirty/cracked; liquid, frozen or powdered eggs not pasteurized.                                                                                                                                   0.090909\n",
       "BRONX          Unprotected food re-served.                                                                                                                                                                                  0.500000\n",
       "BROOKLYN       Precooked potentially hazardous food from commercial food processing establishment that is supposed to be heated, but is not heated to 140º F within 2 hours.                                                0.714286\n",
       "MANHATTAN      Potable water supply inadequate. Water or ice not potable or from unapproved source.  Cross connection in potable water supply system observed.                                                              1.000000\n",
       "QUEENS         Caloric content range (minimum to maximum) not posted on menus and or menu boards for each flavor, variety and size of each menu item that is offered for sale in different flavors, varieties and sizes.    1.000000\n",
       "Name: normalized, dtype: float64"
      ]
     },
     "execution_count": 40,
     "metadata": {},
     "output_type": "execute_result"
    }
   ],
   "source": [
    "# Final output (take all the values)\n",
    "violation_code_count_merged[['BORO', 'VIOLATION DESCRIPTION', 'normalized']]\\\n",
    ".groupby(['BORO', 'VIOLATION DESCRIPTION'])['normalized']\\\n",
    ".agg('max').sort_values().groupby(level=0).tail(1).iloc[1:]"
   ]
  },
  {
   "cell_type": "markdown",
   "metadata": {},
   "source": [
    "## Q.13. How many phone area codes correspond to a single zipcode?"
   ]
  },
  {
   "cell_type": "code",
   "execution_count": 41,
   "metadata": {},
   "outputs": [],
   "source": [
    "area_code_zip_code_df = pd.concat([nyc_rest_data['PHONE'].map(lambda x:x[:3]),  nyc_rest_data['ZIPCODE']], axis = 1)\n",
    "area_code_zip_code_df.columns = ['AREACODE', 'ZIPCODE']"
   ]
  },
  {
   "cell_type": "code",
   "execution_count": 42,
   "metadata": {},
   "outputs": [],
   "source": [
    "count_unique_zipcode = area_code_zip_code_df.groupby('AREACODE')['ZIPCODE'].nunique().reset_index()"
   ]
  },
  {
   "cell_type": "code",
   "execution_count": 43,
   "metadata": {},
   "outputs": [
    {
     "data": {
      "text/plain": [
       "34"
      ]
     },
     "execution_count": 43,
     "metadata": {},
     "output_type": "execute_result"
    }
   ],
   "source": [
    "# Final Output - Total unique area codes with one to one mapping with zipcode\n",
    "count_unique_zipcode[count_unique_zipcode['ZIPCODE'] == 1].shape[0]"
   ]
  },
  {
   "cell_type": "markdown",
   "metadata": {},
   "source": [
    "## Q.14. Find common misspellings of street names"
   ]
  },
  {
   "cell_type": "code",
   "execution_count": 44,
   "metadata": {},
   "outputs": [],
   "source": [
    "nyc_rest_data['STREET TYPE'] = nyc_rest_data['STREET'].str.sWplit(' ').str[-1]"
   ]
  },
  {
   "cell_type": "code",
   "execution_count": 45,
   "metadata": {},
   "outputs": [],
   "source": [
    "nyc_rest_data['STREET BASE'] = nyc_rest_data['STREET'].str.split(' ').map(lambda x:' '.join(x[:-1]))"
   ]
  },
  {
   "cell_type": "code",
   "execution_count": 46,
   "metadata": {},
   "outputs": [],
   "source": [
    "nyc_rest_data['STREET BASE & ZIP'] = nyc_rest_data['STREET BASE'] + ' ' + nyc_rest_data['ZIPCODE']"
   ]
  },
  {
   "cell_type": "code",
   "execution_count": 47,
   "metadata": {},
   "outputs": [
    {
     "data": {
      "text/html": [
       "<div>\n",
       "<style scoped>\n",
       "    .dataframe tbody tr th:only-of-type {\n",
       "        vertical-align: middle;\n",
       "    }\n",
       "\n",
       "    .dataframe tbody tr th {\n",
       "        vertical-align: top;\n",
       "    }\n",
       "\n",
       "    .dataframe thead th {\n",
       "        text-align: right;\n",
       "    }\n",
       "</style>\n",
       "<table border=\"1\" class=\"dataframe\">\n",
       "  <thead>\n",
       "    <tr style=\"text-align: right;\">\n",
       "      <th></th>\n",
       "      <th>STREET TYPE</th>\n",
       "      <th>STREET BASE</th>\n",
       "      <th>STREET BASE &amp; ZIP</th>\n",
       "    </tr>\n",
       "  </thead>\n",
       "  <tbody>\n",
       "    <tr>\n",
       "      <th>0</th>\n",
       "      <td>AVENUE</td>\n",
       "      <td>FLATBUSH</td>\n",
       "      <td>FLATBUSH 11225</td>\n",
       "    </tr>\n",
       "    <tr>\n",
       "      <th>5</th>\n",
       "      <td>ROAD</td>\n",
       "      <td>63</td>\n",
       "      <td>63 11374</td>\n",
       "    </tr>\n",
       "    <tr>\n",
       "      <th>9</th>\n",
       "      <td>BOULEVARD</td>\n",
       "      <td>ASTORIA</td>\n",
       "      <td>ASTORIA 11369</td>\n",
       "    </tr>\n",
       "    <tr>\n",
       "      <th>16</th>\n",
       "      <td>AVENUE</td>\n",
       "      <td>SUTTER</td>\n",
       "      <td>SUTTER 11208</td>\n",
       "    </tr>\n",
       "    <tr>\n",
       "      <th>22</th>\n",
       "      <td>HIGHWAY</td>\n",
       "      <td>KINGS</td>\n",
       "      <td>KINGS 11223</td>\n",
       "    </tr>\n",
       "    <tr>\n",
       "      <th>...</th>\n",
       "      <td>...</td>\n",
       "      <td>...</td>\n",
       "      <td>...</td>\n",
       "    </tr>\n",
       "    <tr>\n",
       "      <th>44613</th>\n",
       "      <td>ST</td>\n",
       "      <td>9TH</td>\n",
       "      <td>9TH 11101</td>\n",
       "    </tr>\n",
       "    <tr>\n",
       "      <th>44617</th>\n",
       "      <td>AVE</td>\n",
       "      <td>ROGERS</td>\n",
       "      <td>ROGERS 11216</td>\n",
       "    </tr>\n",
       "    <tr>\n",
       "      <th>44618</th>\n",
       "      <td></td>\n",
       "      <td>GRAND AVE</td>\n",
       "      <td>GRAND AVE                                     ...</td>\n",
       "    </tr>\n",
       "    <tr>\n",
       "      <th>44619</th>\n",
       "      <td>ST</td>\n",
       "      <td>E 48TH</td>\n",
       "      <td>E 48TH 10017</td>\n",
       "    </tr>\n",
       "    <tr>\n",
       "      <th>44629</th>\n",
       "      <td>ST</td>\n",
       "      <td>E 13TH</td>\n",
       "      <td>E 13TH 10009</td>\n",
       "    </tr>\n",
       "  </tbody>\n",
       "</table>\n",
       "<p>3872 rows × 3 columns</p>\n",
       "</div>"
      ],
      "text/plain": [
       "      STREET TYPE                                        STREET BASE  \\\n",
       "0          AVENUE                                           FLATBUSH   \n",
       "5            ROAD                                                 63   \n",
       "9       BOULEVARD                                            ASTORIA   \n",
       "16         AVENUE                                             SUTTER   \n",
       "22        HIGHWAY                                              KINGS   \n",
       "...           ...                                                ...   \n",
       "44613          ST                                                9TH   \n",
       "44617         AVE                                             ROGERS   \n",
       "44618              GRAND AVE                                           \n",
       "44619          ST                                             E 48TH   \n",
       "44629          ST                                             E 13TH   \n",
       "\n",
       "                                       STREET BASE & ZIP  \n",
       "0                                         FLATBUSH 11225  \n",
       "5                                               63 11374  \n",
       "9                                          ASTORIA 11369  \n",
       "16                                          SUTTER 11208  \n",
       "22                                           KINGS 11223  \n",
       "...                                                  ...  \n",
       "44613                                          9TH 11101  \n",
       "44617                                       ROGERS 11216  \n",
       "44618  GRAND AVE                                     ...  \n",
       "44619                                       E 48TH 10017  \n",
       "44629                                       E 13TH 10009  \n",
       "\n",
       "[3872 rows x 3 columns]"
      ]
     },
     "execution_count": 47,
     "metadata": {},
     "output_type": "execute_result"
    }
   ],
   "source": [
    "nyc_rest_street_data =  nyc_rest_data[['STREET TYPE', 'STREET BASE', 'STREET BASE & ZIP']].drop_duplicates()\n",
    "nyc_rest_street_data"
   ]
  },
  {
   "cell_type": "code",
   "execution_count": 48,
   "metadata": {},
   "outputs": [],
   "source": [
    "# checking if street data is NULL/blank anywhere\n",
    "blank_street_base = nyc_rest_street_data[(nyc_rest_street_data['STREET BASE'] == np.nan) | (nyc_rest_street_data['STREET BASE'] == '') |\n",
    "                    (nyc_rest_street_data['STREET BASE'] == ' ')].index"
   ]
  },
  {
   "cell_type": "code",
   "execution_count": 49,
   "metadata": {},
   "outputs": [],
   "source": [
    "nyc_idx = nyc_rest_street_data.index.tolist()"
   ]
  },
  {
   "cell_type": "code",
   "execution_count": 50,
   "metadata": {},
   "outputs": [],
   "source": [
    "blank_street_base_idx = blank_street_base.tolist()"
   ]
  },
  {
   "cell_type": "code",
   "execution_count": 51,
   "metadata": {},
   "outputs": [],
   "source": [
    "nyc_rest_street_data_clean = nyc_rest_street_data.loc[set(nyc_idx).difference(set(blank_street_base_idx))]"
   ]
  },
  {
   "cell_type": "code",
   "execution_count": 52,
   "metadata": {},
   "outputs": [
    {
     "data": {
      "text/html": [
       "<div>\n",
       "<style scoped>\n",
       "    .dataframe tbody tr th:only-of-type {\n",
       "        vertical-align: middle;\n",
       "    }\n",
       "\n",
       "    .dataframe tbody tr th {\n",
       "        vertical-align: top;\n",
       "    }\n",
       "\n",
       "    .dataframe thead th {\n",
       "        text-align: right;\n",
       "    }\n",
       "</style>\n",
       "<table border=\"1\" class=\"dataframe\">\n",
       "  <thead>\n",
       "    <tr style=\"text-align: right;\">\n",
       "      <th></th>\n",
       "      <th>STREET TYPE_left</th>\n",
       "      <th>STREET BASE_left</th>\n",
       "      <th>STREET BASE &amp; ZIP</th>\n",
       "      <th>STREET TYPE_right</th>\n",
       "      <th>STREET BASE_right</th>\n",
       "    </tr>\n",
       "  </thead>\n",
       "  <tbody>\n",
       "    <tr>\n",
       "      <th>0</th>\n",
       "      <td>AVENUE</td>\n",
       "      <td>FLATBUSH</td>\n",
       "      <td>FLATBUSH 11225</td>\n",
       "      <td>AVENUE</td>\n",
       "      <td>FLATBUSH</td>\n",
       "    </tr>\n",
       "    <tr>\n",
       "      <th>1</th>\n",
       "      <td>5</td>\n",
       "      <td>TERMINAL</td>\n",
       "      <td>TERMINAL 11430</td>\n",
       "      <td>5</td>\n",
       "      <td>TERMINAL</td>\n",
       "    </tr>\n",
       "    <tr>\n",
       "      <th>2</th>\n",
       "      <td>AVENUE</td>\n",
       "      <td>48</td>\n",
       "      <td>48 11104</td>\n",
       "      <td>AVENUE</td>\n",
       "      <td>48</td>\n",
       "    </tr>\n",
       "    <tr>\n",
       "      <th>3</th>\n",
       "      <td>ROAD</td>\n",
       "      <td>63</td>\n",
       "      <td>63 11374</td>\n",
       "      <td>ROAD</td>\n",
       "      <td>63</td>\n",
       "    </tr>\n",
       "    <tr>\n",
       "      <th>4</th>\n",
       "      <td>ROAD</td>\n",
       "      <td>63</td>\n",
       "      <td>63 11374</td>\n",
       "      <td>DRIVE</td>\n",
       "      <td>63</td>\n",
       "    </tr>\n",
       "  </tbody>\n",
       "</table>\n",
       "</div>"
      ],
      "text/plain": [
       "  STREET TYPE_left STREET BASE_left STREET BASE & ZIP STREET TYPE_right  \\\n",
       "0           AVENUE         FLATBUSH    FLATBUSH 11225            AVENUE   \n",
       "1                5         TERMINAL    TERMINAL 11430                 5   \n",
       "2           AVENUE               48          48 11104            AVENUE   \n",
       "3             ROAD               63          63 11374              ROAD   \n",
       "4             ROAD               63          63 11374             DRIVE   \n",
       "\n",
       "  STREET BASE_right  \n",
       "0          FLATBUSH  \n",
       "1          TERMINAL  \n",
       "2                48  \n",
       "3                63  \n",
       "4                63  "
      ]
     },
     "execution_count": 52,
     "metadata": {},
     "output_type": "execute_result"
    }
   ],
   "source": [
    "nyc_street_data_merged = nyc_rest_street_data_clean.merge(nyc_rest_street_data_clean, left_on=['STREET BASE & ZIP'], right_on=['STREET BASE & ZIP'],\n",
    "                                                    suffixes=['_left', '_right'])\n",
    "nyc_street_data_merged.head()"
   ]
  },
  {
   "cell_type": "code",
   "execution_count": 53,
   "metadata": {},
   "outputs": [],
   "source": [
    "nyc_street_data_merged_diff = nyc_street_data_merged[nyc_street_data_merged['STREET TYPE_left'] != nyc_street_data_merged['STREET TYPE_right']]"
   ]
  },
  {
   "cell_type": "code",
   "execution_count": 54,
   "metadata": {},
   "outputs": [],
   "source": [
    "crosstab = pd.crosstab(nyc_street_data_merged_diff['STREET TYPE_left'], nyc_street_data_merged_diff['STREET TYPE_right'])"
   ]
  },
  {
   "cell_type": "code",
   "execution_count": 55,
   "metadata": {},
   "outputs": [],
   "source": [
    "crosstab_reset = crosstab.reset_index()"
   ]
  },
  {
   "cell_type": "code",
   "execution_count": 56,
   "metadata": {},
   "outputs": [
    {
     "data": {
      "text/html": [
       "<div>\n",
       "<style scoped>\n",
       "    .dataframe tbody tr th:only-of-type {\n",
       "        vertical-align: middle;\n",
       "    }\n",
       "\n",
       "    .dataframe tbody tr th {\n",
       "        vertical-align: top;\n",
       "    }\n",
       "\n",
       "    .dataframe thead th {\n",
       "        text-align: right;\n",
       "    }\n",
       "</style>\n",
       "<table border=\"1\" class=\"dataframe\">\n",
       "  <thead>\n",
       "    <tr style=\"text-align: right;\">\n",
       "      <th>STREET TYPE_right</th>\n",
       "      <th>STREET TYPE_left</th>\n",
       "      <th>A</th>\n",
       "      <th>AAVENUE</th>\n",
       "      <th>AIRPORT</th>\n",
       "      <th>AVE</th>\n",
       "      <th>AVENUE</th>\n",
       "      <th>B</th>\n",
       "      <th>BLVD</th>\n",
       "      <th>BOULEARD</th>\n",
       "      <th>BOULEVARD</th>\n",
       "      <th>...</th>\n",
       "      <th>STATION</th>\n",
       "      <th>STREET</th>\n",
       "      <th>TERMINAL</th>\n",
       "      <th>TPKE</th>\n",
       "      <th>TURNPIKE</th>\n",
       "      <th>U</th>\n",
       "      <th>V</th>\n",
       "      <th>W</th>\n",
       "      <th>WEST</th>\n",
       "      <th>X</th>\n",
       "    </tr>\n",
       "  </thead>\n",
       "  <tbody>\n",
       "    <tr>\n",
       "      <th>0</th>\n",
       "      <td>A</td>\n",
       "      <td>0</td>\n",
       "      <td>0</td>\n",
       "      <td>0</td>\n",
       "      <td>0</td>\n",
       "      <td>0</td>\n",
       "      <td>2</td>\n",
       "      <td>0</td>\n",
       "      <td>0</td>\n",
       "      <td>0</td>\n",
       "      <td>...</td>\n",
       "      <td>0</td>\n",
       "      <td>0</td>\n",
       "      <td>0</td>\n",
       "      <td>0</td>\n",
       "      <td>0</td>\n",
       "      <td>0</td>\n",
       "      <td>0</td>\n",
       "      <td>0</td>\n",
       "      <td>0</td>\n",
       "      <td>0</td>\n",
       "    </tr>\n",
       "    <tr>\n",
       "      <th>1</th>\n",
       "      <td>AAVENUE</td>\n",
       "      <td>0</td>\n",
       "      <td>0</td>\n",
       "      <td>0</td>\n",
       "      <td>1</td>\n",
       "      <td>1</td>\n",
       "      <td>0</td>\n",
       "      <td>0</td>\n",
       "      <td>0</td>\n",
       "      <td>0</td>\n",
       "      <td>...</td>\n",
       "      <td>0</td>\n",
       "      <td>0</td>\n",
       "      <td>0</td>\n",
       "      <td>0</td>\n",
       "      <td>0</td>\n",
       "      <td>0</td>\n",
       "      <td>0</td>\n",
       "      <td>0</td>\n",
       "      <td>0</td>\n",
       "      <td>0</td>\n",
       "    </tr>\n",
       "    <tr>\n",
       "      <th>2</th>\n",
       "      <td>AIRPORT</td>\n",
       "      <td>0</td>\n",
       "      <td>0</td>\n",
       "      <td>0</td>\n",
       "      <td>0</td>\n",
       "      <td>0</td>\n",
       "      <td>0</td>\n",
       "      <td>0</td>\n",
       "      <td>0</td>\n",
       "      <td>0</td>\n",
       "      <td>...</td>\n",
       "      <td>0</td>\n",
       "      <td>0</td>\n",
       "      <td>0</td>\n",
       "      <td>0</td>\n",
       "      <td>0</td>\n",
       "      <td>0</td>\n",
       "      <td>0</td>\n",
       "      <td>0</td>\n",
       "      <td>0</td>\n",
       "      <td>0</td>\n",
       "    </tr>\n",
       "    <tr>\n",
       "      <th>3</th>\n",
       "      <td>AVE</td>\n",
       "      <td>0</td>\n",
       "      <td>1</td>\n",
       "      <td>0</td>\n",
       "      <td>0</td>\n",
       "      <td>152</td>\n",
       "      <td>0</td>\n",
       "      <td>0</td>\n",
       "      <td>0</td>\n",
       "      <td>0</td>\n",
       "      <td>...</td>\n",
       "      <td>0</td>\n",
       "      <td>0</td>\n",
       "      <td>0</td>\n",
       "      <td>0</td>\n",
       "      <td>0</td>\n",
       "      <td>0</td>\n",
       "      <td>0</td>\n",
       "      <td>0</td>\n",
       "      <td>0</td>\n",
       "      <td>0</td>\n",
       "    </tr>\n",
       "    <tr>\n",
       "      <th>4</th>\n",
       "      <td>AVENUE</td>\n",
       "      <td>0</td>\n",
       "      <td>1</td>\n",
       "      <td>0</td>\n",
       "      <td>152</td>\n",
       "      <td>0</td>\n",
       "      <td>0</td>\n",
       "      <td>0</td>\n",
       "      <td>0</td>\n",
       "      <td>0</td>\n",
       "      <td>...</td>\n",
       "      <td>0</td>\n",
       "      <td>11</td>\n",
       "      <td>0</td>\n",
       "      <td>0</td>\n",
       "      <td>0</td>\n",
       "      <td>0</td>\n",
       "      <td>0</td>\n",
       "      <td>0</td>\n",
       "      <td>0</td>\n",
       "      <td>0</td>\n",
       "    </tr>\n",
       "  </tbody>\n",
       "</table>\n",
       "<p>5 rows × 61 columns</p>\n",
       "</div>"
      ],
      "text/plain": [
       "STREET TYPE_right STREET TYPE_left  A  AAVENUE  AIRPORT  AVE  AVENUE  B  BLVD  \\\n",
       "0                                A  0        0        0    0       0  2     0   \n",
       "1                          AAVENUE  0        0        0    1       1  0     0   \n",
       "2                          AIRPORT  0        0        0    0       0  0     0   \n",
       "3                              AVE  0        1        0    0     152  0     0   \n",
       "4                           AVENUE  0        1        0  152       0  0     0   \n",
       "\n",
       "STREET TYPE_right  BOULEARD  BOULEVARD  ...  STATION  STREET  TERMINAL  TPKE  \\\n",
       "0                         0          0  ...        0       0         0     0   \n",
       "1                         0          0  ...        0       0         0     0   \n",
       "2                         0          0  ...        0       0         0     0   \n",
       "3                         0          0  ...        0       0         0     0   \n",
       "4                         0          0  ...        0      11         0     0   \n",
       "\n",
       "STREET TYPE_right  TURNPIKE  U  V  W  WEST  X  \n",
       "0                         0  0  0  0     0  0  \n",
       "1                         0  0  0  0     0  0  \n",
       "2                         0  0  0  0     0  0  \n",
       "3                         0  0  0  0     0  0  \n",
       "4                         0  0  0  0     0  0  \n",
       "\n",
       "[5 rows x 61 columns]"
      ]
     },
     "execution_count": 56,
     "metadata": {},
     "output_type": "execute_result"
    }
   ],
   "source": [
    "crosstab_reset.head()"
   ]
  },
  {
   "cell_type": "code",
   "execution_count": 57,
   "metadata": {},
   "outputs": [
    {
     "data": {
      "text/plain": [
       "4    AVENUE\n",
       "Name: STREET TYPE_left, dtype: object"
      ]
     },
     "execution_count": 57,
     "metadata": {},
     "output_type": "execute_result"
    }
   ],
   "source": [
    "# Most common street types for AVE\n",
    "crosstab_reset['STREET TYPE_left'][crosstab_reset['AVE'] == max(crosstab_reset['AVE'])]"
   ]
  },
  {
   "cell_type": "code",
   "execution_count": 58,
   "metadata": {},
   "outputs": [
    {
     "data": {
      "text/plain": [
       "51    STREET\n",
       "Name: STREET TYPE_left, dtype: object"
      ]
     },
     "execution_count": 58,
     "metadata": {},
     "output_type": "execute_result"
    }
   ],
   "source": [
    "# Most common street types for ST\n",
    "crosstab_reset['STREET TYPE_left'][crosstab_reset['ST'] == max(crosstab_reset['ST'])]"
   ]
  },
  {
   "cell_type": "code",
   "execution_count": 59,
   "metadata": {},
   "outputs": [
    {
     "data": {
      "text/plain": [
       "44    ROAD\n",
       "Name: STREET TYPE_left, dtype: object"
      ]
     },
     "execution_count": 59,
     "metadata": {},
     "output_type": "execute_result"
    }
   ],
   "source": [
    "# Most common street types for RD\n",
    "crosstab_reset['STREET TYPE_left'][crosstab_reset['RD'] == max(crosstab_reset['RD'])]"
   ]
  },
  {
   "cell_type": "code",
   "execution_count": 60,
   "metadata": {},
   "outputs": [
    {
     "data": {
      "text/plain": [
       "39    PLACE\n",
       "Name: STREET TYPE_left, dtype: object"
      ]
     },
     "execution_count": 60,
     "metadata": {},
     "output_type": "execute_result"
    }
   ],
   "source": [
    "# Most common street types for PL\n",
    "crosstab_reset['STREET TYPE_left'][crosstab_reset['PL'] == max(crosstab_reset['PL'])]"
   ]
  },
  {
   "cell_type": "code",
   "execution_count": 61,
   "metadata": {},
   "outputs": [
    {
     "data": {
      "text/plain": [
       "6         BLVD\n",
       "8    BOULEVARD\n",
       "Name: STREET TYPE_left, dtype: object"
      ]
     },
     "execution_count": 61,
     "metadata": {},
     "output_type": "execute_result"
    }
   ],
   "source": [
    "# Most common street types for BOULEARD\n",
    "crosstab_reset['STREET TYPE_left'][crosstab_reset['BOULEARD'] == max(crosstab_reset['BOULEARD'])]"
   ]
  },
  {
   "cell_type": "code",
   "execution_count": 62,
   "metadata": {},
   "outputs": [
    {
     "data": {
      "text/plain": [
       "6         BLVD\n",
       "8    BOULEVARD\n",
       "Name: STREET TYPE_left, dtype: object"
      ]
     },
     "execution_count": 62,
     "metadata": {},
     "output_type": "execute_result"
    }
   ],
   "source": [
    "# Most common street types for BULEVARD\n",
    "crosstab_reset['STREET TYPE_left'][crosstab_reset['BULEVARD'] == max(crosstab_reset['BULEVARD'])]"
   ]
  }
 ],
 "metadata": {
  "kernelspec": {
   "display_name": "Python 3",
   "language": "python",
   "name": "python3"
  },
  "language_info": {
   "codemirror_mode": {
    "name": "ipython",
    "version": 3
   },
   "file_extension": ".py",
   "mimetype": "text/x-python",
   "name": "python",
   "nbconvert_exporter": "python",
   "pygments_lexer": "ipython3",
   "version": "3.6.10"
  }
 },
 "nbformat": 4,
 "nbformat_minor": 4
}
