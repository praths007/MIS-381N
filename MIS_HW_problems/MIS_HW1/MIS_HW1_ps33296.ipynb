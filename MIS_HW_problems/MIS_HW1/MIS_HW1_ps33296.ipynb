{
 "cells": [
  {
   "cell_type": "markdown",
   "metadata": {},
   "source": [
    "## HW1 MIS - Datascience programming\n",
    "### ***Name - Prathmesh Savale UT-EID - ps33296***\n"
   ]
  },
  {
   "cell_type": "code",
   "execution_count": 1,
   "metadata": {},
   "outputs": [],
   "source": [
    "import numpy as np\n",
    "import random"
   ]
  },
  {
   "cell_type": "markdown",
   "metadata": {},
   "source": [
    "### 1. Rock, Paper Scissors"
   ]
  },
  {
   "cell_type": "code",
   "execution_count": 2,
   "metadata": {},
   "outputs": [],
   "source": [
    "def decide_winner(computer_ip, human_ip):\n",
    "    '''Takes in 2 inputs for the rock paper and scissor game, decides and returns the winner'''\n",
    "    if computer_ip == human_ip:\n",
    "        return 'draw'\n",
    "    elif (computer_ip =='scissor' and human_ip == 'paper') or (computer_ip =='rock' and human_ip == 'scissor') or (computer_ip =='paper' and human_ip == 'rock'):\n",
    "        return 'computer wins'\n",
    "    else:\n",
    "        return 'human wins'"
   ]
  },
  {
   "cell_type": "code",
   "execution_count": 3,
   "metadata": {},
   "outputs": [],
   "source": [
    "def rock_paper_scissor_logic(event):\n",
    "    '''Takes 1 input event, returns the event that defeats the input event in rock, paper scissor game'''\n",
    "    if event == 'rock':\n",
    "        return 'paper'\n",
    "    elif event =='scissor':\n",
    "        return 'rock'\n",
    "    elif event == 'paper':\n",
    "        return 'scissor'"
   ]
  },
  {
   "cell_type": "code",
   "execution_count": 4,
   "metadata": {},
   "outputs": [],
   "source": [
    "def compute_human_probability(past_vals_cnt, most_recent):\n",
    "    '''Takes 2 inputs, past values events of rock, paper scissor game and the most recent event,\n",
    "    returns the prediction that could defeat the anticipated input'''\n",
    "#     print(past_vals_cnt)\n",
    "    prob_vals = {'rock': past_vals_cnt['rock']/sum(past_vals_cnt.values()),\n",
    "             'paper': past_vals_cnt['paper']/sum(past_vals_cnt.values()),\n",
    "             'scissor': past_vals_cnt['scissor']/sum(past_vals_cnt.values())}\n",
    "    max_keys = [key for key, value in prob_vals.items() if value == max(prob_vals.values())]\n",
    "    if len(max_keys) > 1:\n",
    "        print(prob_vals)\n",
    "        if 'rock' in max_keys and 'paper' in max_keys:\n",
    "            return('paper')\n",
    "        elif 'rock' in max_keys and 'scissor' in max_keys:\n",
    "            return('rock')\n",
    "        elif 'scissor' in max_keys and 'paper' in max_keys:\n",
    "            return('scissor')\n",
    "#         if most_recent in max_keys:\n",
    "#             return rock_paper_scissor_logic(most_recent)\n",
    "    else:\n",
    "        return rock_paper_scissor_logic(max_keys[0])"
   ]
  },
  {
   "cell_type": "code",
   "execution_count": 5,
   "metadata": {},
   "outputs": [],
   "source": [
    "# main\n",
    "def rock_paper_scissor_game():\n",
    "    '''Executes the rock paper scissor game between human and computer'''\n",
    "    computer_options = ['rock', 'paper', 'scissor']\n",
    "    game_number = 0\n",
    "    human_win = 0\n",
    "    past_vals_cnt = {'rock': 0, 'paper': 0, 'scissor': 0}\n",
    "    while(True):\n",
    "        human_inp = input('enter \"rock\", \"paper\", \"scissor\" or \"quit\": ')\n",
    "        if human_inp == 'quit':\n",
    "            print('total games played: ', game_number)\n",
    "            print('human wins: ', human_win)\n",
    "            break\n",
    "        elif human_inp not in computer_options:\n",
    "            print('wrong input, please enter \"rock\", \"paper, \"scissor\" or \"quit\"')\n",
    "        else:\n",
    "            print('human choice:',human_inp)\n",
    "            past_vals_cnt[human_inp] += 1\n",
    "            if game_number == 0:\n",
    "                game_number += 1\n",
    "                computer_choice = random.choice(computer_options)\n",
    "                most_recent = human_inp\n",
    "                print('computer choice:',computer_choice)\n",
    "            else:\n",
    "                game_number += 1\n",
    "                computer_choice = compute_human_probability(past_vals_cnt, most_recent)\n",
    "                print('computer choice:',computer_choice)\n",
    "                most_recent = human_inp\n",
    "            winner = decide_winner(computer_choice, human_inp)\n",
    "            if winner == 'human wins':\n",
    "                human_win += 1\n",
    "            print('outcome:', decide_winner(computer_choice, human_inp), '\\n')"
   ]
  },
  {
   "cell_type": "code",
   "execution_count": 6,
   "metadata": {},
   "outputs": [
    {
     "name": "stdout",
     "output_type": "stream",
     "text": [
      "enter \"rock\", \"paper\", \"scissor\" or \"quit\": quit\n",
      "total games played:  0\n",
      "human wins:  0\n"
     ]
    }
   ],
   "source": [
    "rock_paper_scissor_game()"
   ]
  },
  {
   "cell_type": "markdown",
   "metadata": {},
   "source": [
    "## 2. Voters in Florida"
   ]
  },
  {
   "cell_type": "code",
   "execution_count": 7,
   "metadata": {},
   "outputs": [],
   "source": [
    "import re\n",
    "import pandas as pd"
   ]
  },
  {
   "cell_type": "code",
   "execution_count": 8,
   "metadata": {},
   "outputs": [],
   "source": [
    "fp = open('FloridaVoters.html','r')"
   ]
  },
  {
   "cell_type": "code",
   "execution_count": 9,
   "metadata": {},
   "outputs": [],
   "source": [
    "txt = fp.read()\n",
    "fp.close()"
   ]
  },
  {
   "cell_type": "code",
   "execution_count": 10,
   "metadata": {},
   "outputs": [],
   "source": [
    "#getting table\n",
    "# re.findall('<tr>')\n",
    "# re.findall('<tr>\\s*ss'`)\n",
    "tab_tuples = re.findall('<tr>\\s*<td>(.*)</td>\\s*<td>(.*)</td>\\s*<td>(.*)</td>\\s*<td>(.*)</td>\\s*<td>(.*)</td>\\s*<td>(.*)</td>',txt)"
   ]
  },
  {
   "cell_type": "code",
   "execution_count": 11,
   "metadata": {},
   "outputs": [
    {
     "data": {
      "text/html": [
       "<div>\n",
       "<style scoped>\n",
       "    .dataframe tbody tr th:only-of-type {\n",
       "        vertical-align: middle;\n",
       "    }\n",
       "\n",
       "    .dataframe tbody tr th {\n",
       "        vertical-align: top;\n",
       "    }\n",
       "\n",
       "    .dataframe thead th {\n",
       "        text-align: right;\n",
       "    }\n",
       "</style>\n",
       "<table border=\"1\" class=\"dataframe\">\n",
       "  <thead>\n",
       "    <tr style=\"text-align: right;\">\n",
       "      <th></th>\n",
       "      <th>COUNTY</th>\n",
       "      <th>REPUBLICAN</th>\n",
       "      <th>DEMOCRAT</th>\n",
       "      <th>MINOR</th>\n",
       "      <th>NONE</th>\n",
       "      <th>TOTAL</th>\n",
       "    </tr>\n",
       "  </thead>\n",
       "  <tbody>\n",
       "    <tr>\n",
       "      <th>0</th>\n",
       "      <td>ALACHUA</td>\n",
       "      <td>47,329</td>\n",
       "      <td>77,996</td>\n",
       "      <td>3,864</td>\n",
       "      <td>34,116</td>\n",
       "      <td>163,305</td>\n",
       "    </tr>\n",
       "    <tr>\n",
       "      <th>1</th>\n",
       "      <td>BAKER</td>\n",
       "      <td>6,963</td>\n",
       "      <td>5,813</td>\n",
       "      <td>184</td>\n",
       "      <td>1,237</td>\n",
       "      <td>14,197</td>\n",
       "    </tr>\n",
       "    <tr>\n",
       "      <th>2</th>\n",
       "      <td>BAY</td>\n",
       "      <td>57,456</td>\n",
       "      <td>30,733</td>\n",
       "      <td>2,441</td>\n",
       "      <td>20,625</td>\n",
       "      <td>111,255</td>\n",
       "    </tr>\n",
       "    <tr>\n",
       "      <th>3</th>\n",
       "      <td>BRADFORD</td>\n",
       "      <td>6,878</td>\n",
       "      <td>6,533</td>\n",
       "      <td>251</td>\n",
       "      <td>1,971</td>\n",
       "      <td>15,633</td>\n",
       "    </tr>\n",
       "    <tr>\n",
       "      <th>4</th>\n",
       "      <td>BREVARD</td>\n",
       "      <td>167,129</td>\n",
       "      <td>127,435</td>\n",
       "      <td>13,960</td>\n",
       "      <td>86,702</td>\n",
       "      <td>395,226</td>\n",
       "    </tr>\n",
       "    <tr>\n",
       "      <th>...</th>\n",
       "      <td>...</td>\n",
       "      <td>...</td>\n",
       "      <td>...</td>\n",
       "      <td>...</td>\n",
       "      <td>...</td>\n",
       "      <td>...</td>\n",
       "    </tr>\n",
       "    <tr>\n",
       "      <th>63</th>\n",
       "      <td>VOLUSIA</td>\n",
       "      <td>121,402</td>\n",
       "      <td>124,136</td>\n",
       "      <td>11,537</td>\n",
       "      <td>88,882</td>\n",
       "      <td>345,957</td>\n",
       "    </tr>\n",
       "    <tr>\n",
       "      <th>64</th>\n",
       "      <td>WAKULLA</td>\n",
       "      <td>7,374</td>\n",
       "      <td>8,889</td>\n",
       "      <td>560</td>\n",
       "      <td>2,681</td>\n",
       "      <td>19,504</td>\n",
       "    </tr>\n",
       "    <tr>\n",
       "      <th>65</th>\n",
       "      <td>WALTON</td>\n",
       "      <td>25,609</td>\n",
       "      <td>10,013</td>\n",
       "      <td>842</td>\n",
       "      <td>8,150</td>\n",
       "      <td>44,614</td>\n",
       "    </tr>\n",
       "    <tr>\n",
       "      <th>66</th>\n",
       "      <td>WASHINGTON</td>\n",
       "      <td>7,101</td>\n",
       "      <td>5,687</td>\n",
       "      <td>221</td>\n",
       "      <td>1,690</td>\n",
       "      <td>14,699</td>\n",
       "    </tr>\n",
       "    <tr>\n",
       "      <th>67</th>\n",
       "      <td>Total</td>\n",
       "      <td>4,377,713</td>\n",
       "      <td>4,637,026</td>\n",
       "      <td>332,982</td>\n",
       "      <td>2,867,495</td>\n",
       "      <td>12,215,216</td>\n",
       "    </tr>\n",
       "  </tbody>\n",
       "</table>\n",
       "<p>68 rows × 6 columns</p>\n",
       "</div>"
      ],
      "text/plain": [
       "        COUNTY REPUBLICAN   DEMOCRAT    MINOR       NONE       TOTAL\n",
       "0      ALACHUA     47,329     77,996    3,864     34,116     163,305\n",
       "1        BAKER      6,963      5,813      184      1,237      14,197\n",
       "2          BAY     57,456     30,733    2,441     20,625     111,255\n",
       "3     BRADFORD      6,878      6,533      251      1,971      15,633\n",
       "4      BREVARD    167,129    127,435   13,960     86,702     395,226\n",
       "..         ...        ...        ...      ...        ...         ...\n",
       "63     VOLUSIA    121,402    124,136   11,537     88,882     345,957\n",
       "64     WAKULLA      7,374      8,889      560      2,681      19,504\n",
       "65      WALTON     25,609     10,013      842      8,150      44,614\n",
       "66  WASHINGTON      7,101      5,687      221      1,690      14,699\n",
       "67       Total  4,377,713  4,637,026  332,982  2,867,495  12,215,216\n",
       "\n",
       "[68 rows x 6 columns]"
      ]
     },
     "execution_count": 11,
     "metadata": {},
     "output_type": "execute_result"
    }
   ],
   "source": [
    "tab_df = pd.DataFrame(tab_tuples)\n",
    "tab_df.columns = ['COUNTY', 'REPUBLICAN', 'DEMOCRAT', 'MINOR', 'NONE', 'TOTAL']\n",
    "tab_df"
   ]
  },
  {
   "cell_type": "code",
   "execution_count": 12,
   "metadata": {},
   "outputs": [],
   "source": [
    "tab_df[\"REPUBLICAN\"] = tab_df[\"REPUBLICAN\"].str.replace(',','').astype(int)\n",
    "tab_df[\"DEMOCRAT\"] = tab_df[\"DEMOCRAT\"].str.replace(',','').astype(int)\n",
    "tab_df[\"MINOR\"] = tab_df[\"MINOR\"].str.replace(',','').astype(int)\n",
    "tab_df[\"NONE\"] = tab_df[\"NONE\"].str.replace(',','').astype(int)\n",
    "tab_df[\"TOTAL\"] = tab_df[\"TOTAL\"].str.replace(',','').astype(int)"
   ]
  },
  {
   "cell_type": "code",
   "execution_count": 13,
   "metadata": {},
   "outputs": [
    {
     "data": {
      "text/html": [
       "<div>\n",
       "<style scoped>\n",
       "    .dataframe tbody tr th:only-of-type {\n",
       "        vertical-align: middle;\n",
       "    }\n",
       "\n",
       "    .dataframe tbody tr th {\n",
       "        vertical-align: top;\n",
       "    }\n",
       "\n",
       "    .dataframe thead th {\n",
       "        text-align: right;\n",
       "    }\n",
       "</style>\n",
       "<table border=\"1\" class=\"dataframe\">\n",
       "  <thead>\n",
       "    <tr style=\"text-align: right;\">\n",
       "      <th></th>\n",
       "      <th>COUNTY</th>\n",
       "      <th>REPUBLICAN</th>\n",
       "      <th>DEMOCRAT</th>\n",
       "      <th>MINOR</th>\n",
       "      <th>NONE</th>\n",
       "      <th>TOTAL</th>\n",
       "    </tr>\n",
       "  </thead>\n",
       "  <tbody>\n",
       "    <tr>\n",
       "      <th>32</th>\n",
       "      <td>LAFAYETTE</td>\n",
       "      <td>1373</td>\n",
       "      <td>2672</td>\n",
       "      <td>47</td>\n",
       "      <td>238</td>\n",
       "      <td>4330</td>\n",
       "    </tr>\n",
       "    <tr>\n",
       "      <th>20</th>\n",
       "      <td>GLADES</td>\n",
       "      <td>2190</td>\n",
       "      <td>3110</td>\n",
       "      <td>161</td>\n",
       "      <td>971</td>\n",
       "      <td>6432</td>\n",
       "    </tr>\n",
       "    <tr>\n",
       "      <th>37</th>\n",
       "      <td>LIBERTY</td>\n",
       "      <td>720</td>\n",
       "      <td>3372</td>\n",
       "      <td>23</td>\n",
       "      <td>318</td>\n",
       "      <td>4433</td>\n",
       "    </tr>\n",
       "    <tr>\n",
       "      <th>62</th>\n",
       "      <td>UNION</td>\n",
       "      <td>2752</td>\n",
       "      <td>3579</td>\n",
       "      <td>128</td>\n",
       "      <td>574</td>\n",
       "      <td>7033</td>\n",
       "    </tr>\n",
       "    <tr>\n",
       "      <th>19</th>\n",
       "      <td>GILCHRIST</td>\n",
       "      <td>5789</td>\n",
       "      <td>3652</td>\n",
       "      <td>304</td>\n",
       "      <td>1400</td>\n",
       "      <td>11145</td>\n",
       "    </tr>\n",
       "    <tr>\n",
       "      <th>...</th>\n",
       "      <td>...</td>\n",
       "      <td>...</td>\n",
       "      <td>...</td>\n",
       "      <td>...</td>\n",
       "      <td>...</td>\n",
       "      <td>...</td>\n",
       "    </tr>\n",
       "    <tr>\n",
       "      <th>27</th>\n",
       "      <td>HILLSBOROUGH</td>\n",
       "      <td>257436</td>\n",
       "      <td>314265</td>\n",
       "      <td>22612</td>\n",
       "      <td>204103</td>\n",
       "      <td>798416</td>\n",
       "    </tr>\n",
       "    <tr>\n",
       "      <th>49</th>\n",
       "      <td>PALM BEACH</td>\n",
       "      <td>245452</td>\n",
       "      <td>367236</td>\n",
       "      <td>30338</td>\n",
       "      <td>216973</td>\n",
       "      <td>859999</td>\n",
       "    </tr>\n",
       "    <tr>\n",
       "      <th>42</th>\n",
       "      <td>MIAMI-DADE</td>\n",
       "      <td>362161</td>\n",
       "      <td>539367</td>\n",
       "      <td>18093</td>\n",
       "      <td>360713</td>\n",
       "      <td>1280334</td>\n",
       "    </tr>\n",
       "    <tr>\n",
       "      <th>5</th>\n",
       "      <td>BROWARD</td>\n",
       "      <td>249762</td>\n",
       "      <td>566185</td>\n",
       "      <td>17602</td>\n",
       "      <td>286877</td>\n",
       "      <td>1120426</td>\n",
       "    </tr>\n",
       "    <tr>\n",
       "      <th>67</th>\n",
       "      <td>Total</td>\n",
       "      <td>4377713</td>\n",
       "      <td>4637026</td>\n",
       "      <td>332982</td>\n",
       "      <td>2867495</td>\n",
       "      <td>12215216</td>\n",
       "    </tr>\n",
       "  </tbody>\n",
       "</table>\n",
       "<p>68 rows × 6 columns</p>\n",
       "</div>"
      ],
      "text/plain": [
       "          COUNTY  REPUBLICAN  DEMOCRAT   MINOR     NONE     TOTAL\n",
       "32     LAFAYETTE        1373      2672      47      238      4330\n",
       "20        GLADES        2190      3110     161      971      6432\n",
       "37       LIBERTY         720      3372      23      318      4433\n",
       "62         UNION        2752      3579     128      574      7033\n",
       "19     GILCHRIST        5789      3652     304     1400     11145\n",
       "..           ...         ...       ...     ...      ...       ...\n",
       "27  HILLSBOROUGH      257436    314265   22612   204103    798416\n",
       "49    PALM BEACH      245452    367236   30338   216973    859999\n",
       "42    MIAMI-DADE      362161    539367   18093   360713   1280334\n",
       "5        BROWARD      249762    566185   17602   286877   1120426\n",
       "67         Total     4377713   4637026  332982  2867495  12215216\n",
       "\n",
       "[68 rows x 6 columns]"
      ]
     },
     "execution_count": 13,
     "metadata": {},
     "output_type": "execute_result"
    }
   ],
   "source": [
    "# sample output\n",
    "tab_df.sort_values(by=['DEMOCRAT'], ascending=True)"
   ]
  },
  {
   "cell_type": "markdown",
   "metadata": {},
   "source": [
    "## 3. Near - Duplicate Detection"
   ]
  },
  {
   "cell_type": "code",
   "execution_count": 14,
   "metadata": {},
   "outputs": [],
   "source": [
    "import re\n",
    "import pandas as pd\n",
    "import math"
   ]
  },
  {
   "cell_type": "markdown",
   "metadata": {},
   "source": [
    "### 3. a. convert each tweet into a dictionary of phrases"
   ]
  },
  {
   "cell_type": "code",
   "execution_count": 15,
   "metadata": {},
   "outputs": [],
   "source": [
    "def moving_window(tweet):\n",
    "    '''takes 1 input, extracts phrases of 3 words into a dictionary, returns the dictionary'''\n",
    "    phrases_dict = dict()\n",
    "    for i in range(0,len(tweet),3):\n",
    "        phrases_dict[' '.join(tweet[i:i+3])] = 1\n",
    "    return phrases_dict"
   ]
  },
  {
   "cell_type": "code",
   "execution_count": 16,
   "metadata": {},
   "outputs": [
    {
     "data": {
      "text/plain": [
       "{'Stock market crash': 1, 'is eminent brace': 1, 'for impact downtrend': 1}"
      ]
     },
     "execution_count": 16,
     "metadata": {},
     "output_type": "execute_result"
    }
   ],
   "source": [
    "# sample\n",
    "txt = \"Stock market crash is eminent, brace for impact downtrend\"\n",
    "txt_stripped = txt.rstrip().lstrip().split(\" \")\n",
    "rm_RT = [re.sub('@[^, ]*|(RT)|(Rt)', '', i) for i in txt_stripped]\n",
    "rm_chars = [re.sub('[^A-Za-z0-9]+', '', i) for i in rm_RT]\n",
    "alnum_words = [e for e in rm_chars if e.isalnum()]\n",
    "phrase_dict = moving_window(alnum_words)\n",
    "phrase_dict"
   ]
  },
  {
   "cell_type": "markdown",
   "metadata": {},
   "source": [
    "### 3. b. calculate similarity between two points"
   ]
  },
  {
   "cell_type": "code",
   "execution_count": 17,
   "metadata": {},
   "outputs": [],
   "source": [
    "def cosine(dict1, dict2):\n",
    "    '''takes 2 inputs, returns cosine simmilarity between 2 points'''\n",
    "    matches = sum([x in list(dict1.keys()) for x in list(dict2.keys())])\n",
    "    cosine_val = matches/math.sqrt(len(dict1.keys()) * len(dict2.keys()))\n",
    "    return cosine_val"
   ]
  },
  {
   "cell_type": "code",
   "execution_count": 18,
   "metadata": {},
   "outputs": [],
   "source": [
    "def tokenize(txt):\n",
    "    '''takes 1 input as a sentence, removes unwanted characters and creates tokens for cosine calculation'''\n",
    "    txt_stripped = txt.rstrip().lstrip().split(\" \")\n",
    "    rm_RT = [re.sub('@[^, ]*|(RT)|(Rt)', '', i) for i in txt_stripped]\n",
    "    rm_chars = [re.sub('[^A-Za-z0-9]+', '', i) for i in rm_RT]\n",
    "    alnum_words = [e for e in rm_chars if e.isalnum()]\n",
    "    return moving_window(alnum_words)"
   ]
  },
  {
   "cell_type": "code",
   "execution_count": 19,
   "metadata": {},
   "outputs": [
    {
     "data": {
      "text/plain": [
       "1.0"
      ]
     },
     "execution_count": 19,
     "metadata": {},
     "output_type": "execute_result"
    }
   ],
   "source": [
    "# sample\n",
    "phrase_dict1 = tokenize(\"Stock market crash is eminent, brace for impact downtrend\")\n",
    "phrase_dict2 = tokenize(\"Stock market crash is eminent, brace for impact downtrend\")\n",
    "cosine(phrase_dict1, phrase_dict2)"
   ]
  },
  {
   "cell_type": "markdown",
   "metadata": {},
   "source": [
    "### 3. c. Read in tweets, and output near-duplicates "
   ]
  },
  {
   "cell_type": "code",
   "execution_count": 20,
   "metadata": {},
   "outputs": [],
   "source": [
    "# main\n",
    "def calculate_near_duplicates(file_name):\n",
    "    '''Takes 1 input, the filename and calculates near duplicate tweets from the given file'''\n",
    "    fp = open(file_name,'r')\n",
    "    txt = fp.readline()\n",
    "    tweet_num = 0\n",
    "    tweet_phrase_dict = dict()\n",
    "    tweet_dict = dict()\n",
    "    while txt is not \"\":\n",
    "        tweet_dict[tweet_num] = txt\n",
    "        phrase_dict = tokenize(txt)\n",
    "        if tweet_num != 0:\n",
    "            for i in range(len(tweet_phrase_dict)):\n",
    "                cosine_val = cosine(phrase_dict, tweet_phrase_dict[i])\n",
    "                if cosine_val> 0.5:\n",
    "                    print(txt, \"\\033[1m ***IS SIMILAR TO*** \\033[0;0m\", tweet_dict[i],\"\\n\")\n",
    "        tweet_phrase_dict[tweet_num] = phrase_dict\n",
    "        tweet_num += 1\n",
    "        txt = fp.readline()\n",
    "    fp.close()"
   ]
  },
  {
   "cell_type": "code",
   "execution_count": 21,
   "metadata": {
    "scrolled": false
   },
   "outputs": [
    {
     "name": "stdout",
     "output_type": "stream",
     "text": [
      "RT @BuyBookstore: SPECIAL SECRET HEARTS: A Child's Introduction to Dementia and Pink Curls - A Santa ... - http://t.co/UWCdc8FA9a http://t.",
      "\n",
      " \u001b[1m ***IS SIMILAR TO*** \u001b[0;0m SPECIAL SECRET HEARTS: A Child's Introduction to Dementia and Pink Curls - A Santa ... - http://t.co/UWCdc8FA9a http://t.co/meexKLGTKl\n",
      " \n",
      "\n",
      "\"RT @DrewFtDevonne_: Rt si te gusta Santa Claus Is Coming To Town #MTVHottest Justin Bieber\"\n",
      " \u001b[1m ***IS SIMILAR TO*** \u001b[0;0m \"Santa Claus Is Coming To Town #MTVHottest Justin Bieber\"\n",
      " \n",
      "\n",
      "\"Rt si te gusta Santa Claus Is Coming To Town #MTVHottest Justin Bieber\"\n",
      " \u001b[1m ***IS SIMILAR TO*** \u001b[0;0m \"Santa Claus Is Coming To Town #MTVHottest Justin Bieber\"\n",
      " \n",
      "\n",
      "\"Rt si te gusta Santa Claus Is Coming To Town #MTVHottest Justin Bieber\"\n",
      " \u001b[1m ***IS SIMILAR TO*** \u001b[0;0m \"RT @DrewFtDevonne_: Rt si te gusta Santa Claus Is Coming To Town #MTVHottest Justin Bieber\"\n",
      " \n",
      "\n"
     ]
    }
   ],
   "source": [
    "# sample output\n",
    "calculate_near_duplicates(file_name='Santa.txt')"
   ]
  },
  {
   "cell_type": "markdown",
   "metadata": {},
   "source": [
    "## 4. The Google of Quotes"
   ]
  },
  {
   "cell_type": "code",
   "execution_count": 22,
   "metadata": {},
   "outputs": [],
   "source": [
    "import re\n",
    "import pandas as pd\n",
    "import math\n",
    "import collections, functools, operator"
   ]
  },
  {
   "cell_type": "code",
   "execution_count": 23,
   "metadata": {},
   "outputs": [],
   "source": [
    "# fp.close()\n",
    "fp = open('quotes.txt','r', encoding='latin-1')\n",
    "# txt = fp.read()"
   ]
  },
  {
   "cell_type": "markdown",
   "metadata": {},
   "source": [
    "### 4.a Build a list of full quotes"
   ]
  },
  {
   "cell_type": "code",
   "execution_count": 24,
   "metadata": {
    "scrolled": true
   },
   "outputs": [],
   "source": [
    "def read_quotes_file(filename):\n",
    "    '''takes 1 input as the filename and converts the file into a list of quotes'''\n",
    "    fp = open(filename,'r', encoding='latin-1')\n",
    "    quotes_speaker_list = list()\n",
    "    txt = fp.readline().lstrip().rstrip()\n",
    "    firstline = 1\n",
    "    while txt is not \"\":\n",
    "        if firstline == 1:\n",
    "            quote = txt\n",
    "            firstline = 0\n",
    "        else:\n",
    "            quote = fp.readline().lstrip().rstrip()\n",
    "\n",
    "        speaker = fp.readline().lstrip().rstrip()\n",
    "        if quote == '' or speaker == '':\n",
    "            break\n",
    "        str_to_add = quote+\" - \"+speaker\n",
    "        quotes_speaker_list.append(str_to_add)\n",
    "    fp.close()\n",
    "    return quotes_speaker_list"
   ]
  },
  {
   "cell_type": "code",
   "execution_count": 25,
   "metadata": {},
   "outputs": [],
   "source": [
    "quotes_speaker_list = read_quotes_file(filename = 'quotes.txt')"
   ]
  },
  {
   "cell_type": "code",
   "execution_count": 26,
   "metadata": {},
   "outputs": [
    {
     "data": {
      "text/plain": [
       "['The best defense against usurpatory government is an assertive citizenry. - William F. Buckley',\n",
       " 'Cowards die many times before their deaths. The valiant never taste of death but once. - William Shakespeare',\n",
       " 'It is astonishing what an effort it seems to be for many people to put their brains definitely and systematically to work. - Thomas Edison',\n",
       " 'Liberty exists in proportion to wholesome restraint. - Daniel Webster',\n",
       " 'To be what we are, and to become what we are capable of becoming, is the only end of life. - Robert Louis Stevenson',\n",
       " 'I honestly think it is better to be a failure at something you love than to be a success at something you hate. - George Burns',\n",
       " 'The power of accurate observation is commonly called cynicism by those who have not got it. - George Bernard Shaw',\n",
       " 'Question with boldness even the existence of a God; because, if there be one, he must more approve of the homage of reason, than that of blind-folded fear. - Thomas Jefferson',\n",
       " 'We are never deceived; we deceive ourselves. - Johann Wolfgang von Goethe',\n",
       " 'Government is not a solution to our problem, government is the problem. - Ronald Reagan']"
      ]
     },
     "execution_count": 26,
     "metadata": {},
     "output_type": "execute_result"
    }
   ],
   "source": [
    "# sample output\n",
    "quotes_speaker_list[-10:]"
   ]
  },
  {
   "cell_type": "markdown",
   "metadata": {},
   "source": [
    "### 4.b Words from full quotes"
   ]
  },
  {
   "cell_type": "code",
   "execution_count": 27,
   "metadata": {},
   "outputs": [],
   "source": [
    "def words_from_quotes(line):\n",
    "    '''takes 1 input which is a quite and returns lowercase, alphanumeric tokens with the exception of an _'''\n",
    "    line = str.lower(line) # for lowercase\n",
    "    split_quote = re.split(' ', line)\n",
    "    rm_chars = [re.sub('[^A-Za-z0-9_]+', '', i) for i in split_quote] # for removing any special characters except _\n",
    "    alnum_words = [e for e in rm_chars if e.isalnum()]  #for removing whitespaces\n",
    "    return alnum_words"
   ]
  },
  {
   "cell_type": "code",
   "execution_count": 28,
   "metadata": {},
   "outputs": [
    {
     "data": {
      "text/plain": [
       "['how',\n",
       " 'we',\n",
       " 'spend',\n",
       " 'our',\n",
       " 'days',\n",
       " 'is',\n",
       " 'of',\n",
       " 'course',\n",
       " 'how',\n",
       " 'we',\n",
       " 'spend',\n",
       " 'our',\n",
       " 'lives',\n",
       " 'annie',\n",
       " 'dillard']"
      ]
     },
     "execution_count": 28,
     "metadata": {},
     "output_type": "execute_result"
    }
   ],
   "source": [
    "# sample\n",
    "words_from_quotes(quotes_speaker_list[0])"
   ]
  },
  {
   "cell_type": "markdown",
   "metadata": {},
   "source": [
    "### 4.c Postings-list dictionary"
   ]
  },
  {
   "cell_type": "code",
   "execution_count": 29,
   "metadata": {},
   "outputs": [],
   "source": [
    "def postings_list_dict(line):\n",
    "    '''takes a quote as input and returns postings list dictionary'''\n",
    "    postings_list_dictionary = dict()   \n",
    "    alnum_words = words_from_quotes(line)\n",
    "    unique_words = list(set(alnum_words))  # get unique words\n",
    "    for item in unique_words:\n",
    "        postings_list_dictionary[item] = 0 # assigning zero to all words\n",
    "    for item in alnum_words:\n",
    "        postings_list_dictionary[item] += 1 #updating values\n",
    "    return postings_list_dictionary"
   ]
  },
  {
   "cell_type": "code",
   "execution_count": 30,
   "metadata": {},
   "outputs": [
    {
     "data": {
      "text/plain": [
       "{'days': 1,\n",
       " 'we': 2,\n",
       " 'is': 1,\n",
       " 'lives': 1,\n",
       " 'how': 2,\n",
       " 'of': 1,\n",
       " 'course': 1,\n",
       " 'annie': 1,\n",
       " 'spend': 2,\n",
       " 'our': 2,\n",
       " 'dillard': 1}"
      ]
     },
     "execution_count": 30,
     "metadata": {},
     "output_type": "execute_result"
    }
   ],
   "source": [
    "# sample\n",
    "postings_list_dict(quotes_speaker_list[0])"
   ]
  },
  {
   "cell_type": "markdown",
   "metadata": {},
   "source": [
    "### 4.d Reverse Postings-list dictionary"
   ]
  },
  {
   "cell_type": "code",
   "execution_count": 31,
   "metadata": {},
   "outputs": [],
   "source": [
    "def reverse_postings_list_dict(word):\n",
    "    '''takes a quote as input and returns reverse postings list dictionary'''\n",
    "    quotes_speaker_list = read_quotes_file(filename = 'quotes.txt')\n",
    "    n_docs = len(quotes_speaker_list) \n",
    "    \n",
    "    reverse_postings_list_dictionary = dict()\n",
    "    for i in range(n_docs):\n",
    "        postings_list = postings_list_dict(quotes_speaker_list[i])\n",
    "        if word in postings_list.keys():\n",
    "            if word not in reverse_postings_list_dictionary.keys():\n",
    "                reverse_postings_list_dictionary[word] = {quotes_speaker_list[i] : postings_list[word]}\n",
    "            else:\n",
    "                reverse_postings_list_dictionary[word].update({quotes_speaker_list[i]: postings_list[word]})\n",
    "            \n",
    "    return reverse_postings_list_dictionary"
   ]
  },
  {
   "cell_type": "code",
   "execution_count": 32,
   "metadata": {},
   "outputs": [
    {
     "data": {
      "text/plain": [
       "{'how': {'How we spend our days is, of course, how we spend our lives. - Annie Dillard': 2,\n",
       "  'Christmas can be celebrated in the school room with pine trees, tinsel and reindeers, but there must be no mention of the man whose birthday is being celebrated. One wonders how a teacher would answer if a student asked why it was called Christmas. - Ronald Reagan': 1,\n",
       "  'I have often wondered how it is that every man loves himself more than all the rest of men, but yet sets less value on his own opinion of himself than on the opinion of others. - Marcus Aurelius': 1,\n",
       "  'It`s not how old you are, it`s how hard you work at it. - Jonah Barrington': 2,\n",
       "  'No matter how much cats fight, there always seem to be plenty of kittens. - Abraham Lincoln': 1,\n",
       "  'Success, the real success, does not depend upon the position you hold but upon how you carry yourself in that position. - Theodore Roosevelt': 1,\n",
       "  'Never discourage anyone who continually makes progress, no matter how slow. - Plato': 1,\n",
       "  'True wisdom comes to each of us when we realize how little we understand about life, ourselves, and the world around us. - Socrates': 1,\n",
       "  'How did it get so late so soon? It`s night before it`s afternoon. December is here before it`s June. My goodness how the time has flewn. How did it get so late so soon? - Theodor Seuss Geisel': 3,\n",
       "  'One thing they never tell you about child raising is that for the rest of your life, at the drop of a hat, you are expected to know your child`s name and how old he or she is. - Erna Bombeck': 1,\n",
       "  'If a man is proud of his wealth, he should not be praised until it is known how he employs it. - Socrates': 1,\n",
       "  'We`ve got to live. No matter how many skies have fallen. - D.H. Lawrence': 1,\n",
       "  'The ACLU is always yakking about the Constitution, and most of us are getting mighty tired of it. I mean, if the Constitution is so great, how come it was amended so many times? Huh? - Dave Barry': 1,\n",
       "  'Many of life`s failures are people who did not realize how close they were to success when they gave up. - Thomas Edison': 1,\n",
       "  'How did it happen that their lips came together? How does it happen that birds sing, that snow melts, that the rose unfolds, that the dawn whitens behind the stark shapes of trees on the quivering summit of the hill? A kiss, and all was said. - Victor Hugo': 2,\n",
       "  'My role in society, or any artist`s or poet`s role, is to try and express what we all feel. Not to tell people how to feel. Not as a preacher, not as a leader, but as a reflection of us all. - John Lennon': 1,\n",
       "  'Our nettlesome task is to discover how to organize our strength into compelling power. - Martin Luther King Jr.': 1,\n",
       "  'I do not believe one can settle how much we ought to give. I am afraid the only safe rule is to give more than we can spare. - C.S. Lewis': 1,\n",
       "  'There is no question that there is an unseen world. The problem is, how far is it from midtown and how late is it open? - Woody Allen': 2,\n",
       "  'It`s not how much we give but how much love we put into giving. - Mother Teresa': 2,\n",
       "  'All children are artists. The problem is how to remain an artist once he grows up. - Pablo Picasso': 1}}"
      ]
     },
     "execution_count": 32,
     "metadata": {},
     "output_type": "execute_result"
    }
   ],
   "source": [
    "#sample\n",
    "reverse_postings_list_dict('how')"
   ]
  },
  {
   "cell_type": "markdown",
   "metadata": {},
   "source": [
    "### 4.e Write a TF-IDF function"
   ]
  },
  {
   "cell_type": "code",
   "execution_count": 33,
   "metadata": {},
   "outputs": [],
   "source": [
    "def tf_idf_calc(word, quote):\n",
    "    '''takes 2 inputs word and quote and returns the TF-IDF value of the word in the quote and document'''\n",
    "    postings_list = postings_list_dict(quote)\n",
    "    if word not in list(postings_list.keys()):\n",
    "        print(word,\"is not a part of the quote:\",quote,\"\\nplease try again\")\n",
    "        return 0\n",
    "    else:\n",
    "#         print(postings_list\n",
    "        TF = postings_list[word]/max(postings_list.values())\n",
    "        \n",
    "        quotes_speaker_list = read_quotes_file(filename = 'quotes.txt')    \n",
    "        n_docs = len(quotes_speaker_list) \n",
    "        reverse_posting_dict = dict()\n",
    "        freq = 0\n",
    "        \n",
    "        reverse_posting_dict = reverse_postings_list_dict(word)\n",
    "#         for i in range(n_docs):\n",
    "#             reverse_posting_dict = reverse_postings_list_dict(word)\n",
    "#             if word in reverse_posting_dict.keys():\n",
    "        freq = sum(reverse_posting_dict[word].values())\n",
    "                \n",
    "        IDF = math.log(n_docs/freq)\n",
    "        return TF*IDF"
   ]
  },
  {
   "cell_type": "code",
   "execution_count": 34,
   "metadata": {},
   "outputs": [
    {
     "data": {
      "text/plain": [
       "'How we spend our days is, of course, how we spend our lives. - Annie Dillard'"
      ]
     },
     "execution_count": 34,
     "metadata": {},
     "output_type": "execute_result"
    }
   ],
   "source": [
    "quotes_speaker_list[0]"
   ]
  },
  {
   "cell_type": "code",
   "execution_count": 35,
   "metadata": {
    "scrolled": true
   },
   "outputs": [
    {
     "data": {
      "text/plain": [
       "3.454512440429877"
      ]
     },
     "execution_count": 35,
     "metadata": {},
     "output_type": "execute_result"
    }
   ],
   "source": [
    "# sample\n",
    "tf_idf_calc(\"how\", quotes_speaker_list[0])"
   ]
  },
  {
   "cell_type": "markdown",
   "metadata": {},
   "source": [
    "### 4.f Quote search using a single word"
   ]
  },
  {
   "cell_type": "code",
   "execution_count": 36,
   "metadata": {},
   "outputs": [],
   "source": [
    "def quote_search_using_word(word):\n",
    "    '''takes 1 input word rerurnds TF-IDF value of the word and all the quotes that contain the word in the quotes file'''\n",
    "    quotes_speaker_list = read_quotes_file(filename = 'quotes.txt')\n",
    "          \n",
    "    reverse_posting_dict = dict()\n",
    "    words_dict = dict()\n",
    "\n",
    "    reverse_posting_dict = reverse_postings_list_dict(word)\n",
    "    if word in reverse_posting_dict.keys():\n",
    "        for key in reverse_posting_dict[word].keys():\n",
    "            words_dict[key] = tf_idf_calc(word, key)\n",
    "    return words_dict"
   ]
  },
  {
   "cell_type": "code",
   "execution_count": 41,
   "metadata": {},
   "outputs": [
    {
     "data": {
      "text/plain": [
       "{'An actor is at most a poet and at least an entertainer. - Marlon Brando': 3.3933584753025405}"
      ]
     },
     "execution_count": 41,
     "metadata": {},
     "output_type": "execute_result"
    }
   ],
   "source": [
    "# sample\n",
    "quote_search_using_word(\"entertainer\")"
   ]
  },
  {
   "cell_type": "markdown",
   "metadata": {},
   "source": [
    "### 4.g Quote search using a multiple words"
   ]
  },
  {
   "cell_type": "code",
   "execution_count": 296,
   "metadata": {},
   "outputs": [],
   "source": [
    "def quote_search_using_multiple_words(word_list):\n",
    "    '''takes and input word list, returns sum of TF-IDF value of the words and all the quotes that contain the words in the quotes file'''\n",
    "    quotes_speaker_list = read_quotes_file(filename = 'quotes.txt')\n",
    "    \n",
    "    reverse_posting_dict = dict()\n",
    "    words_dict = dict()\n",
    "    \n",
    "    \n",
    "    for word in word_list:\n",
    "        reverse_posting_dict = reverse_postings_list_dict(word)\n",
    "        if word in reverse_posting_dict.keys():\n",
    "            for key in reverse_posting_dict[word].keys():\n",
    "                if key not in words_dict.keys():\n",
    "                    words_dict[key] = tf_idf_calc(word, key)\n",
    "                else:\n",
    "                    words_dict[key] += tf_idf_calc(word, key)\n",
    "                    \n",
    "    return words_dict"
   ]
  },
  {
   "cell_type": "code",
   "execution_count": 297,
   "metadata": {},
   "outputs": [
    {
     "data": {
      "text/plain": [
       "{'Two roads diverged in a wood, and I...I took the one less traveled by, and that has made all the difference. - Robert Frost': 5.40042258948519,\n",
       " 'When nothing seems to help, I go and look at a stonecutter hammering away at his rock perhaps a hundred times without as much as a crack showing in it. Yet at the hundred and first blow it will split in two, and I know it was not that blow that did it, but all that had gone before. - Jacob August Riis': 1.0035320570913249,\n",
       " 'A Native American elder once described his own inner struggles in this manner: Inside of me there are two dogs. One of the dogs is mean and evil. The other dog is good. The mean dog fights the good dog all the time. When asked which dog wins, he reflected. - George Bernard Shaw': 0.8028256456730599,\n",
       " 'Friendship is a single soul dwelling in two bodies. - Aristotle': 4.0141282283652995,\n",
       " 'The best of life is conversation, and the greatest success is confidence, or perfect understanding between two people. - Ralph Waldo Emerson': 2.0070641141826497,\n",
       " 'If you have an apple and I have an apple and we exchange these apples then you and I will still each have one apple. But if you have an idea and I have an idea and we exchange these ideas, then each of us will have two ideas. - George Bernard Shaw': 0.6690213713942166,\n",
       " 'Wedding: a ceremony at which two persons undertake to become one, one undertakes to become nothing, and nothing undertakes to become supportable. - Ambrose Bierce': 1.3380427427884332,\n",
       " 'Few people think more than two or three times a year. I have made an international reputation for myself by thinking once or twice a week. - George Bernard Shaw': 2.0070641141826497,\n",
       " 'Marriage is the alliance of two people, one of whom never remembers birthdays and the other who never forgets. - Ogden Nash': 2.0070641141826497,\n",
       " 'If my children wake up on Christmas morning and have someone to thank for putting candy in their stocking, have I no one to thank for putting two feet in mine? - GK Chesterton': 2.0070641141826497,\n",
       " 'The thing we all have to understand to put these last two years in focus, is that liberals in this country care more about whether European leaders like us than they do about whether terrorists are killing us. - Rush Limbaugh': 2.0070641141826497,\n",
       " 'I`ve worked for four presidents and watched two others up close, and I know that there`s no such thing as a routine day in the Oval Office. - Dick Cheney': 2.0070641141826497,\n",
       " 'To me, it`s always a good idea to always carry two sacks of something when you walk around. That way, if anybody says, `Hey, can you give me a hand?,` you can say, `Sorry, got these sacks.` - Jack Handey': 1.3380427427884332,\n",
       " 'A few hours of mountain climbing turn a villain and a saint into two rather equal creature. Exhaustion is the shortest way to equality and fraternity, and liberty is added eventually by sleep. - Friedrich Nietzsche': 1.3380427427884332,\n",
       " 'No human relation gives one possession in another...every two souls are absolutely different. In friendship and in love, the two side by side raise hands together to find what one cannot reach alone. - Kahlil Gibran': 2.6760854855768663}"
      ]
     },
     "execution_count": 297,
     "metadata": {},
     "output_type": "execute_result"
    }
   ],
   "source": [
    "# sample\n",
    "quote_search_using_multiple_words([\"two\", \"diverged\"])"
   ]
  }
 ],
 "metadata": {
  "kernelspec": {
   "display_name": "Python 3",
   "language": "python",
   "name": "python3"
  },
  "language_info": {
   "codemirror_mode": {
    "name": "ipython",
    "version": 3
   },
   "file_extension": ".py",
   "mimetype": "text/x-python",
   "name": "python",
   "nbconvert_exporter": "python",
   "pygments_lexer": "ipython3",
   "version": "3.6.10"
  }
 },
 "nbformat": 4,
 "nbformat_minor": 4
}
