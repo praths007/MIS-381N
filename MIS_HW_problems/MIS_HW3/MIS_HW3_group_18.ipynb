{
 "cells": [
  {
   "cell_type": "markdown",
   "metadata": {},
   "source": [
    "# MIS HW3 - Group 18\n",
    "---\n",
    "***Group members - Prathmesh Savale (ps33296), Vivek Dhulipalla (vd6543), Juwon Lee (jl73492), Anthony Moreno (am83596)***"
   ]
  },
  {
   "cell_type": "code",
   "execution_count": 2,
   "metadata": {},
   "outputs": [],
   "source": [
    "# importing required libraries\n",
    "import pandas as pd\n",
    "import numpy as np\n",
    "import scipy.stats as st\n",
    "import statsmodels.api as sm\n",
    "import matplotlib.pyplot as plt"
   ]
  },
  {
   "cell_type": "markdown",
   "metadata": {},
   "source": [
    "## 1. Read in data"
   ]
  },
  {
   "cell_type": "code",
   "execution_count": 3,
   "metadata": {},
   "outputs": [
    {
     "data": {
      "text/plain": [
       "(                         url category\n",
       " 0  http://0800-horoscope.com        G\n",
       " 1         http://18games.net        X\n",
       " 2       http://1pixelout.net        G,\n",
       " (1517, 2))"
      ]
     },
     "execution_count": 3,
     "metadata": {},
     "output_type": "execute_result"
    }
   ],
   "source": [
    "# the data is tab separated, so we use \\t to read the gold and labels txt files\n",
    "gold = pd.read_csv('gold.txt', sep='\\t', names=['url', 'category'])\n",
    "# gold.columns = ['url', 'category']\n",
    "gold.head(3), gold.shape"
   ]
  },
  {
   "cell_type": "code",
   "execution_count": 4,
   "metadata": {},
   "outputs": [
    {
     "data": {
      "text/plain": [
       "(             turk            url category\n",
       " 0  A1OT3A29R9N1DG  http://000.cc        P\n",
       " 1  A1PXXEOGQ76RNJ  http://000.cc        G\n",
       " 2  A1PXXEOGQ76RNJ  http://000.cc        G,\n",
       " (92721, 3))"
      ]
     },
     "execution_count": 4,
     "metadata": {},
     "output_type": "execute_result"
    }
   ],
   "source": [
    "labels = pd.read_csv('labels.txt', sep='\\t', names=['turk', 'url', 'category'])\n",
    "# labels.columns = ['turk', 'url', 'category']\n",
    "labels.head(3), labels.shape"
   ]
  },
  {
   "cell_type": "markdown",
   "metadata": {},
   "source": [
    "## 2. Split into two DataFrames"
   ]
  },
  {
   "cell_type": "code",
   "execution_count": 5,
   "metadata": {},
   "outputs": [
    {
     "data": {
      "text/plain": [
       "((3324, 3), (89397, 3), (92721, 3), 92721)"
      ]
     },
     "execution_count": 5,
     "metadata": {},
     "output_type": "execute_result"
    }
   ],
   "source": [
    "labels_on_gold = labels[labels['url'].isin(gold['url'].tolist())]\n",
    "labels_unknown = labels[np.logical_not(labels['url'].isin(gold['url'].tolist()))]\n",
    "# confirming if the data is split correctly\n",
    "labels_on_gold.shape, labels_unknown.shape, labels.shape, labels_on_gold.shape[0]+ labels_unknown.shape[0]"
   ]
  },
  {
   "cell_type": "code",
   "execution_count": 6,
   "metadata": {},
   "outputs": [
    {
     "data": {
      "text/html": [
       "<div>\n",
       "<style scoped>\n",
       "    .dataframe tbody tr th:only-of-type {\n",
       "        vertical-align: middle;\n",
       "    }\n",
       "\n",
       "    .dataframe tbody tr th {\n",
       "        vertical-align: top;\n",
       "    }\n",
       "\n",
       "    .dataframe thead th {\n",
       "        text-align: right;\n",
       "    }\n",
       "</style>\n",
       "<table border=\"1\" class=\"dataframe\">\n",
       "  <thead>\n",
       "    <tr style=\"text-align: right;\">\n",
       "      <th></th>\n",
       "      <th>turk</th>\n",
       "      <th>url</th>\n",
       "      <th>category</th>\n",
       "    </tr>\n",
       "  </thead>\n",
       "  <tbody>\n",
       "    <tr>\n",
       "      <th>245</th>\n",
       "      <td>A1253FXHCZ9CWM</td>\n",
       "      <td>http://0800-horoscope.com</td>\n",
       "      <td>G</td>\n",
       "    </tr>\n",
       "    <tr>\n",
       "      <th>246</th>\n",
       "      <td>A153PKAL7OAY36</td>\n",
       "      <td>http://0800-horoscope.com</td>\n",
       "      <td>G</td>\n",
       "    </tr>\n",
       "    <tr>\n",
       "      <th>247</th>\n",
       "      <td>A1FV9SAPL5C6KY</td>\n",
       "      <td>http://0800-horoscope.com</td>\n",
       "      <td>G</td>\n",
       "    </tr>\n",
       "    <tr>\n",
       "      <th>248</th>\n",
       "      <td>A1JTOT0DWM6QGL</td>\n",
       "      <td>http://0800-horoscope.com</td>\n",
       "      <td>G</td>\n",
       "    </tr>\n",
       "    <tr>\n",
       "      <th>249</th>\n",
       "      <td>A1PXXEOGQ76RNJ</td>\n",
       "      <td>http://0800-horoscope.com</td>\n",
       "      <td>G</td>\n",
       "    </tr>\n",
       "  </tbody>\n",
       "</table>\n",
       "</div>"
      ],
      "text/plain": [
       "               turk                        url category\n",
       "245  A1253FXHCZ9CWM  http://0800-horoscope.com        G\n",
       "246  A153PKAL7OAY36  http://0800-horoscope.com        G\n",
       "247  A1FV9SAPL5C6KY  http://0800-horoscope.com        G\n",
       "248  A1JTOT0DWM6QGL  http://0800-horoscope.com        G\n",
       "249  A1PXXEOGQ76RNJ  http://0800-horoscope.com        G"
      ]
     },
     "execution_count": 6,
     "metadata": {},
     "output_type": "execute_result"
    }
   ],
   "source": [
    "# checking labels on gold df\n",
    "labels_on_gold.head(5)"
   ]
  },
  {
   "cell_type": "code",
   "execution_count": 7,
   "metadata": {},
   "outputs": [
    {
     "data": {
      "text/html": [
       "<div>\n",
       "<style scoped>\n",
       "    .dataframe tbody tr th:only-of-type {\n",
       "        vertical-align: middle;\n",
       "    }\n",
       "\n",
       "    .dataframe tbody tr th {\n",
       "        vertical-align: top;\n",
       "    }\n",
       "\n",
       "    .dataframe thead th {\n",
       "        text-align: right;\n",
       "    }\n",
       "</style>\n",
       "<table border=\"1\" class=\"dataframe\">\n",
       "  <thead>\n",
       "    <tr style=\"text-align: right;\">\n",
       "      <th></th>\n",
       "      <th>turk</th>\n",
       "      <th>url</th>\n",
       "      <th>category</th>\n",
       "    </tr>\n",
       "  </thead>\n",
       "  <tbody>\n",
       "    <tr>\n",
       "      <th>0</th>\n",
       "      <td>A1OT3A29R9N1DG</td>\n",
       "      <td>http://000.cc</td>\n",
       "      <td>P</td>\n",
       "    </tr>\n",
       "    <tr>\n",
       "      <th>1</th>\n",
       "      <td>A1PXXEOGQ76RNJ</td>\n",
       "      <td>http://000.cc</td>\n",
       "      <td>G</td>\n",
       "    </tr>\n",
       "    <tr>\n",
       "      <th>2</th>\n",
       "      <td>A1PXXEOGQ76RNJ</td>\n",
       "      <td>http://000.cc</td>\n",
       "      <td>G</td>\n",
       "    </tr>\n",
       "    <tr>\n",
       "      <th>3</th>\n",
       "      <td>A21US576U8SCO4</td>\n",
       "      <td>http://000.cc</td>\n",
       "      <td>G</td>\n",
       "    </tr>\n",
       "    <tr>\n",
       "      <th>4</th>\n",
       "      <td>A2LGX47NN7C5D3</td>\n",
       "      <td>http://000.cc</td>\n",
       "      <td>G</td>\n",
       "    </tr>\n",
       "  </tbody>\n",
       "</table>\n",
       "</div>"
      ],
      "text/plain": [
       "             turk            url category\n",
       "0  A1OT3A29R9N1DG  http://000.cc        P\n",
       "1  A1PXXEOGQ76RNJ  http://000.cc        G\n",
       "2  A1PXXEOGQ76RNJ  http://000.cc        G\n",
       "3  A21US576U8SCO4  http://000.cc        G\n",
       "4  A2LGX47NN7C5D3  http://000.cc        G"
      ]
     },
     "execution_count": 7,
     "metadata": {},
     "output_type": "execute_result"
    }
   ],
   "source": [
    "# checking labels unknown df\n",
    "labels_unknown.head(5)"
   ]
  },
  {
   "cell_type": "markdown",
   "metadata": {},
   "source": [
    "## 3. Compute accuracies of turks"
   ]
  },
  {
   "cell_type": "code",
   "execution_count": 8,
   "metadata": {},
   "outputs": [],
   "source": [
    "# merging gold df with labels on gold to get labels turk and label\n",
    "merged_w_gold_label = labels_on_gold.merge(gold, left_on=['url'], right_on=['url'], how='left', \\\n",
    "                                           suffixes=('_gold', '_turk_label'))"
   ]
  },
  {
   "cell_type": "code",
   "execution_count": 9,
   "metadata": {},
   "outputs": [],
   "source": [
    "# getting the gold matches\n",
    "merged_w_gold_label_correct = merged_w_gold_label[merged_w_gold_label['category_gold'] == \\\n",
    "                                                  merged_w_gold_label['category_turk_label']]"
   ]
  },
  {
   "cell_type": "code",
   "execution_count": 10,
   "metadata": {},
   "outputs": [],
   "source": [
    "# getting count of categories\n",
    "total_correct_agg = merged_w_gold_label_correct[['turk','category_gold']].groupby('turk').agg('count')\n",
    "total_correct_agg.columns = ['category']\n",
    "total_agg = labels_on_gold[['turk', 'category']].groupby('turk').agg('count')"
   ]
  },
  {
   "cell_type": "code",
   "execution_count": 11,
   "metadata": {},
   "outputs": [],
   "source": [
    "# calculating ratio\n",
    "ratio = total_correct_agg / total_agg"
   ]
  },
  {
   "cell_type": "code",
   "execution_count": 12,
   "metadata": {},
   "outputs": [
    {
     "data": {
      "text/html": [
       "<div>\n",
       "<style scoped>\n",
       "    .dataframe tbody tr th:only-of-type {\n",
       "        vertical-align: middle;\n",
       "    }\n",
       "\n",
       "    .dataframe tbody tr th {\n",
       "        vertical-align: top;\n",
       "    }\n",
       "\n",
       "    .dataframe thead th {\n",
       "        text-align: right;\n",
       "    }\n",
       "</style>\n",
       "<table border=\"1\" class=\"dataframe\">\n",
       "  <thead>\n",
       "    <tr style=\"text-align: right;\">\n",
       "      <th></th>\n",
       "      <th>average_correctness</th>\n",
       "      <th>total_ratings</th>\n",
       "    </tr>\n",
       "    <tr>\n",
       "      <th>turk</th>\n",
       "      <th></th>\n",
       "      <th></th>\n",
       "    </tr>\n",
       "  </thead>\n",
       "  <tbody>\n",
       "    <tr>\n",
       "      <th>A31OCN4MNHUQ6W</th>\n",
       "      <td>0.777174</td>\n",
       "      <td>184</td>\n",
       "    </tr>\n",
       "    <tr>\n",
       "      <th>A153PKAL7OAY36</th>\n",
       "      <td>0.722973</td>\n",
       "      <td>148</td>\n",
       "    </tr>\n",
       "    <tr>\n",
       "      <th>A2BTR0GQ5B5JI6</th>\n",
       "      <td>0.523810</td>\n",
       "      <td>126</td>\n",
       "    </tr>\n",
       "    <tr>\n",
       "      <th>ATVALOQVDCMZW</th>\n",
       "      <td>0.854369</td>\n",
       "      <td>103</td>\n",
       "    </tr>\n",
       "    <tr>\n",
       "      <th>AZSDW7JJL5VA7</th>\n",
       "      <td>0.680000</td>\n",
       "      <td>100</td>\n",
       "    </tr>\n",
       "    <tr>\n",
       "      <th>A3GE97GX3OXJTW</th>\n",
       "      <td>0.658824</td>\n",
       "      <td>85</td>\n",
       "    </tr>\n",
       "    <tr>\n",
       "      <th>A3JMQDTEKRE5X6</th>\n",
       "      <td>0.675000</td>\n",
       "      <td>80</td>\n",
       "    </tr>\n",
       "    <tr>\n",
       "      <th>A2JP3HEL3J25AJ</th>\n",
       "      <td>0.687500</td>\n",
       "      <td>80</td>\n",
       "    </tr>\n",
       "    <tr>\n",
       "      <th>A3MA9V9UPGCOK7</th>\n",
       "      <td>0.774648</td>\n",
       "      <td>71</td>\n",
       "    </tr>\n",
       "    <tr>\n",
       "      <th>APYV9Y0DFZFVP</th>\n",
       "      <td>0.746479</td>\n",
       "      <td>71</td>\n",
       "    </tr>\n",
       "  </tbody>\n",
       "</table>\n",
       "</div>"
      ],
      "text/plain": [
       "                average_correctness  total_ratings\n",
       "turk                                              \n",
       "A31OCN4MNHUQ6W             0.777174            184\n",
       "A153PKAL7OAY36             0.722973            148\n",
       "A2BTR0GQ5B5JI6             0.523810            126\n",
       "ATVALOQVDCMZW              0.854369            103\n",
       "AZSDW7JJL5VA7              0.680000            100\n",
       "A3GE97GX3OXJTW             0.658824             85\n",
       "A3JMQDTEKRE5X6             0.675000             80\n",
       "A2JP3HEL3J25AJ             0.687500             80\n",
       "A3MA9V9UPGCOK7             0.774648             71\n",
       "APYV9Y0DFZFVP              0.746479             71"
      ]
     },
     "execution_count": 12,
     "metadata": {},
     "output_type": "execute_result"
    }
   ],
   "source": [
    "# calculating average correctness\n",
    "rater_goodness = ratio.reset_index().merge(total_agg.reset_index(), on=['turk'])\n",
    "rater_goodness.index = rater_goodness['turk']\n",
    "rater_goodness = rater_goodness[['category_x', 'category_y']]\n",
    "rater_goodness.columns = ['average_correctness', 'total_ratings']\n",
    "rater_goodness.sort_values('total_ratings', ascending=False)[:10]"
   ]
  },
  {
   "cell_type": "markdown",
   "metadata": {},
   "source": [
    "## 4. Odds ratios"
   ]
  },
  {
   "cell_type": "code",
   "execution_count": 13,
   "metadata": {},
   "outputs": [],
   "source": [
    "# calculating odds ratio function\n",
    "def odds_ratio(val):\n",
    "    '''takes 1 value as input, returns the odd ratio for that value'''\n",
    "    return (val/(1.001 - val))"
   ]
  },
  {
   "cell_type": "code",
   "execution_count": 14,
   "metadata": {},
   "outputs": [
    {
     "data": {
      "text/html": [
       "<div>\n",
       "<style scoped>\n",
       "    .dataframe tbody tr th:only-of-type {\n",
       "        vertical-align: middle;\n",
       "    }\n",
       "\n",
       "    .dataframe tbody tr th {\n",
       "        vertical-align: top;\n",
       "    }\n",
       "\n",
       "    .dataframe thead th {\n",
       "        text-align: right;\n",
       "    }\n",
       "</style>\n",
       "<table border=\"1\" class=\"dataframe\">\n",
       "  <thead>\n",
       "    <tr style=\"text-align: right;\">\n",
       "      <th></th>\n",
       "      <th>average_correctness</th>\n",
       "      <th>total_ratings</th>\n",
       "      <th>odds</th>\n",
       "    </tr>\n",
       "    <tr>\n",
       "      <th>turk</th>\n",
       "      <th></th>\n",
       "      <th></th>\n",
       "      <th></th>\n",
       "    </tr>\n",
       "  </thead>\n",
       "  <tbody>\n",
       "    <tr>\n",
       "      <th>A31OCN4MNHUQ6W</th>\n",
       "      <td>0.777174</td>\n",
       "      <td>184</td>\n",
       "      <td>3.472222</td>\n",
       "    </tr>\n",
       "    <tr>\n",
       "      <th>A153PKAL7OAY36</th>\n",
       "      <td>0.722973</td>\n",
       "      <td>148</td>\n",
       "      <td>2.600369</td>\n",
       "    </tr>\n",
       "    <tr>\n",
       "      <th>A2BTR0GQ5B5JI6</th>\n",
       "      <td>0.523810</td>\n",
       "      <td>126</td>\n",
       "      <td>1.097695</td>\n",
       "    </tr>\n",
       "    <tr>\n",
       "      <th>ATVALOQVDCMZW</th>\n",
       "      <td>0.854369</td>\n",
       "      <td>103</td>\n",
       "      <td>5.826657</td>\n",
       "    </tr>\n",
       "    <tr>\n",
       "      <th>AZSDW7JJL5VA7</th>\n",
       "      <td>0.680000</td>\n",
       "      <td>100</td>\n",
       "      <td>2.118380</td>\n",
       "    </tr>\n",
       "    <tr>\n",
       "      <th>A3GE97GX3OXJTW</th>\n",
       "      <td>0.658824</td>\n",
       "      <td>85</td>\n",
       "      <td>1.925391</td>\n",
       "    </tr>\n",
       "    <tr>\n",
       "      <th>A3JMQDTEKRE5X6</th>\n",
       "      <td>0.675000</td>\n",
       "      <td>80</td>\n",
       "      <td>2.070552</td>\n",
       "    </tr>\n",
       "    <tr>\n",
       "      <th>A2JP3HEL3J25AJ</th>\n",
       "      <td>0.687500</td>\n",
       "      <td>80</td>\n",
       "      <td>2.192982</td>\n",
       "    </tr>\n",
       "    <tr>\n",
       "      <th>A3MA9V9UPGCOK7</th>\n",
       "      <td>0.774648</td>\n",
       "      <td>71</td>\n",
       "      <td>3.422313</td>\n",
       "    </tr>\n",
       "    <tr>\n",
       "      <th>APYV9Y0DFZFVP</th>\n",
       "      <td>0.746479</td>\n",
       "      <td>71</td>\n",
       "      <td>2.932876</td>\n",
       "    </tr>\n",
       "  </tbody>\n",
       "</table>\n",
       "</div>"
      ],
      "text/plain": [
       "                average_correctness  total_ratings      odds\n",
       "turk                                                        \n",
       "A31OCN4MNHUQ6W             0.777174            184  3.472222\n",
       "A153PKAL7OAY36             0.722973            148  2.600369\n",
       "A2BTR0GQ5B5JI6             0.523810            126  1.097695\n",
       "ATVALOQVDCMZW              0.854369            103  5.826657\n",
       "AZSDW7JJL5VA7              0.680000            100  2.118380\n",
       "A3GE97GX3OXJTW             0.658824             85  1.925391\n",
       "A3JMQDTEKRE5X6             0.675000             80  2.070552\n",
       "A2JP3HEL3J25AJ             0.687500             80  2.192982\n",
       "A3MA9V9UPGCOK7             0.774648             71  3.422313\n",
       "APYV9Y0DFZFVP              0.746479             71  2.932876"
      ]
     },
     "execution_count": 14,
     "metadata": {},
     "output_type": "execute_result"
    }
   ],
   "source": [
    "# getting odds ratio for total ratings\n",
    "rater_goodness['odds'] = rater_goodness['average_correctness'].map(odds_ratio)\n",
    "rater_goodness.sort_values('total_ratings', ascending=False)[:10]"
   ]
  },
  {
   "cell_type": "markdown",
   "metadata": {},
   "source": [
    "## 5. Most accurate turks"
   ]
  },
  {
   "cell_type": "code",
   "execution_count": 15,
   "metadata": {},
   "outputs": [
    {
     "data": {
      "text/html": [
       "<div>\n",
       "<style scoped>\n",
       "    .dataframe tbody tr th:only-of-type {\n",
       "        vertical-align: middle;\n",
       "    }\n",
       "\n",
       "    .dataframe tbody tr th {\n",
       "        vertical-align: top;\n",
       "    }\n",
       "\n",
       "    .dataframe thead th {\n",
       "        text-align: right;\n",
       "    }\n",
       "</style>\n",
       "<table border=\"1\" class=\"dataframe\">\n",
       "  <thead>\n",
       "    <tr style=\"text-align: right;\">\n",
       "      <th></th>\n",
       "      <th>average_correctness</th>\n",
       "      <th>total_ratings</th>\n",
       "      <th>odds</th>\n",
       "    </tr>\n",
       "    <tr>\n",
       "      <th>turk</th>\n",
       "      <th></th>\n",
       "      <th></th>\n",
       "      <th></th>\n",
       "    </tr>\n",
       "  </thead>\n",
       "  <tbody>\n",
       "    <tr>\n",
       "      <th>A2U0R4X38GUKZE</th>\n",
       "      <td>0.950000</td>\n",
       "      <td>20</td>\n",
       "      <td>18.627451</td>\n",
       "    </tr>\n",
       "    <tr>\n",
       "      <th>A22C0PJUBFJTI0</th>\n",
       "      <td>0.916667</td>\n",
       "      <td>36</td>\n",
       "      <td>10.869565</td>\n",
       "    </tr>\n",
       "    <tr>\n",
       "      <th>A23YQUBXZPKILZ</th>\n",
       "      <td>0.875000</td>\n",
       "      <td>24</td>\n",
       "      <td>6.944444</td>\n",
       "    </tr>\n",
       "    <tr>\n",
       "      <th>ATVALOQVDCMZW</th>\n",
       "      <td>0.854369</td>\n",
       "      <td>103</td>\n",
       "      <td>5.826657</td>\n",
       "    </tr>\n",
       "    <tr>\n",
       "      <th>A1HIXWH4OXT8S4</th>\n",
       "      <td>0.825000</td>\n",
       "      <td>40</td>\n",
       "      <td>4.687500</td>\n",
       "    </tr>\n",
       "    <tr>\n",
       "      <th>A3220HG1O83HQ4</th>\n",
       "      <td>0.818182</td>\n",
       "      <td>22</td>\n",
       "      <td>4.475385</td>\n",
       "    </tr>\n",
       "    <tr>\n",
       "      <th>A32W20KGQXS0LL</th>\n",
       "      <td>0.800000</td>\n",
       "      <td>25</td>\n",
       "      <td>3.980100</td>\n",
       "    </tr>\n",
       "    <tr>\n",
       "      <th>A20PWAB7G3HDHU</th>\n",
       "      <td>0.800000</td>\n",
       "      <td>20</td>\n",
       "      <td>3.980100</td>\n",
       "    </tr>\n",
       "    <tr>\n",
       "      <th>AJSJVK40F5HM6</th>\n",
       "      <td>0.785714</td>\n",
       "      <td>28</td>\n",
       "      <td>3.649635</td>\n",
       "    </tr>\n",
       "    <tr>\n",
       "      <th>A31OCN4MNHUQ6W</th>\n",
       "      <td>0.777174</td>\n",
       "      <td>184</td>\n",
       "      <td>3.472222</td>\n",
       "    </tr>\n",
       "  </tbody>\n",
       "</table>\n",
       "</div>"
      ],
      "text/plain": [
       "                average_correctness  total_ratings       odds\n",
       "turk                                                         \n",
       "A2U0R4X38GUKZE             0.950000             20  18.627451\n",
       "A22C0PJUBFJTI0             0.916667             36  10.869565\n",
       "A23YQUBXZPKILZ             0.875000             24   6.944444\n",
       "ATVALOQVDCMZW              0.854369            103   5.826657\n",
       "A1HIXWH4OXT8S4             0.825000             40   4.687500\n",
       "A3220HG1O83HQ4             0.818182             22   4.475385\n",
       "A32W20KGQXS0LL             0.800000             25   3.980100\n",
       "A20PWAB7G3HDHU             0.800000             20   3.980100\n",
       "AJSJVK40F5HM6              0.785714             28   3.649635\n",
       "A31OCN4MNHUQ6W             0.777174            184   3.472222"
      ]
     },
     "execution_count": 15,
     "metadata": {},
     "output_type": "execute_result"
    }
   ],
   "source": [
    "# getting the most accurate turks, these are ones who have the maximum odds ratio\n",
    "rater_goodness[rater_goodness['total_ratings'] >= 20].sort_values(by = \"average_correctness\", ascending=False)[:10]"
   ]
  },
  {
   "cell_type": "markdown",
   "metadata": {},
   "source": [
    "## 6. Rating counts versus accuracy"
   ]
  },
  {
   "cell_type": "code",
   "execution_count": 16,
   "metadata": {},
   "outputs": [],
   "source": [
    "# replacing nans with zero as these will cause problems while taking product or calculating pearson correlation coefficient\n",
    "rater_goodness = rater_goodness.replace(np.nan, 0)"
   ]
  },
  {
   "cell_type": "code",
   "execution_count": 17,
   "metadata": {},
   "outputs": [
    {
     "data": {
      "text/plain": [
       "Text(0.5, 0, 'Average Correctness')"
      ]
     },
     "execution_count": 17,
     "metadata": {},
     "output_type": "execute_result"
    },
    {
     "data": {
      "image/png": "[encoded data removed]",
      "text/plain": [
       "<Figure size 432x288 with 1 Axes>"
      ]
     },
     "metadata": {
      "needs_background": "light"
     },
     "output_type": "display_data"
    }
   ],
   "source": [
    "# plotting a scatter plot, and then adding a linear model line to the plot shows us that the trend is completely flat.\n",
    "# this shows that there is no relation between average correctness annd total ratings\n",
    "slope, intercept = np.polyfit(rater_goodness['average_correctness'],  rater_goodness['total_ratings'], 1)\n",
    "# Create a list of values in the best fit line\n",
    "abline_values = [slope * i + intercept for i in rater_goodness['average_correctness']]\n",
    "\n",
    "plt.scatter(rater_goodness['average_correctness'], rater_goodness['total_ratings'])\n",
    "plt.plot(rater_goodness['average_correctness'], abline_values, 'b')\n",
    "plt.ylabel(\"Number of Ratings\")\n",
    "plt.xlabel(\"Average Correctness\")"
   ]
  },
  {
   "cell_type": "code",
   "execution_count": 18,
   "metadata": {},
   "outputs": [
    {
     "data": {
      "text/plain": [
       "(0.04529238280484698, 0.4594391196967217)"
      ]
     },
     "execution_count": 18,
     "metadata": {},
     "output_type": "execute_result"
    }
   ],
   "source": [
    "# based on the extremely low pearson correlation coefficient and its big p-value it is difficult to establish \n",
    "# any relationship between average correctness and total number of ratings \n",
    "st.pearsonr(rater_goodness['average_correctness'], rater_goodness['total_ratings'])"
   ]
  },
  {
   "cell_type": "code",
   "execution_count": 19,
   "metadata": {},
   "outputs": [
    {
     "name": "stdout",
     "output_type": "stream",
     "text": [
      "                             OLS Regression Results                            \n",
      "===============================================================================\n",
      "Dep. Variable:     average_correctness   R-squared:                       0.002\n",
      "Model:                             OLS   Adj. R-squared:                 -0.002\n",
      "Method:                  Least Squares   F-statistic:                    0.5488\n",
      "Date:                 Wed, 03 Aug 2022   Prob (F-statistic):              0.459\n",
      "Time:                         00:35:10   Log-Likelihood:                -94.663\n",
      "No. Observations:                  269   AIC:                             193.3\n",
      "Df Residuals:                      267   BIC:                             200.5\n",
      "Df Model:                            1                                         \n",
      "Covariance Type:             nonrobust                                         \n",
      "=================================================================================\n",
      "                    coef    std err          t      P>|t|      [0.025      0.975]\n",
      "---------------------------------------------------------------------------------\n",
      "const             0.6431      0.024     27.071      0.000       0.596       0.690\n",
      "total_ratings     0.0007      0.001      0.741      0.459      -0.001       0.002\n",
      "==============================================================================\n",
      "Omnibus:                       29.253   Durbin-Watson:                   2.072\n",
      "Prob(Omnibus):                  0.000   Jarque-Bera (JB):               28.396\n",
      "Skew:                          -0.731   Prob(JB):                     6.82e-07\n",
      "Kurtosis:                       2.373   Cond. No.                         30.1\n",
      "==============================================================================\n",
      "\n",
      "Warnings:\n",
      "[1] Standard Errors assume that the covariance matrix of the errors is correctly specified.\n"
     ]
    }
   ],
   "source": [
    "# OLS also doesnt show any relation between average correctness and total ratings. The coefficient is close to 0 and p-value is\n",
    "# not significant\n",
    "y = rater_goodness['average_correctness']\n",
    "X = rater_goodness['total_ratings']\n",
    "X = sm.add_constant(X)\n",
    "\n",
    "lm = sm.OLS(y,X)\n",
    "result = lm.fit()\n",
    "print(result.summary())"
   ]
  },
  {
   "cell_type": "markdown",
   "metadata": {},
   "source": [
    "## 7. Overall predicted odds"
   ]
  },
  {
   "cell_type": "code",
   "execution_count": 20,
   "metadata": {},
   "outputs": [],
   "source": [
    "# geting the top 25% turks\n",
    "turks_greater_than75 = rater_goodness.reset_index()[rater_goodness.reset_index()['total_ratings'].rank(pct=True) > 0.75]"
   ]
  },
  {
   "cell_type": "code",
   "execution_count": 21,
   "metadata": {},
   "outputs": [],
   "source": [
    "# joining urls not in gold dataset with rater goodness dataset to get the odds ratio\n",
    "overall_odds = labels_unknown.merge(turks_greater_than75, left_on=['turk'], right_on=['turk'], how='inner')"
   ]
  },
  {
   "cell_type": "code",
   "execution_count": 22,
   "metadata": {},
   "outputs": [],
   "source": [
    "# getting the product of of odds for a 'url' and 'category'\n",
    "overall_odds = overall_odds.groupby(['url', 'category'])[['odds']].prod()\n",
    "# overall_odds.head(10)"
   ]
  },
  {
   "cell_type": "code",
   "execution_count": 23,
   "metadata": {},
   "outputs": [
    {
     "data": {
      "text/html": [
       "<div>\n",
       "<style scoped>\n",
       "    .dataframe tbody tr th:only-of-type {\n",
       "        vertical-align: middle;\n",
       "    }\n",
       "\n",
       "    .dataframe tbody tr th {\n",
       "        vertical-align: top;\n",
       "    }\n",
       "\n",
       "    .dataframe thead th {\n",
       "        text-align: right;\n",
       "    }\n",
       "</style>\n",
       "<table border=\"1\" class=\"dataframe\">\n",
       "  <thead>\n",
       "    <tr style=\"text-align: right;\">\n",
       "      <th></th>\n",
       "      <th></th>\n",
       "      <th>overall_odds</th>\n",
       "    </tr>\n",
       "    <tr>\n",
       "      <th>url</th>\n",
       "      <th>category</th>\n",
       "      <th></th>\n",
       "    </tr>\n",
       "  </thead>\n",
       "  <tbody>\n",
       "    <tr>\n",
       "      <th>http://0-101.net</th>\n",
       "      <th>G</th>\n",
       "      <td>2.155963</td>\n",
       "    </tr>\n",
       "    <tr>\n",
       "      <th>http://000.cc</th>\n",
       "      <th>G</th>\n",
       "      <td>1.460583</td>\n",
       "    </tr>\n",
       "    <tr>\n",
       "      <th>http://0000.jp</th>\n",
       "      <th>G</th>\n",
       "      <td>14.488244</td>\n",
       "    </tr>\n",
       "    <tr>\n",
       "      <th rowspan=\"2\" valign=\"top\">http://000relationships.com</th>\n",
       "      <th>G</th>\n",
       "      <td>9.914590</td>\n",
       "    </tr>\n",
       "    <tr>\n",
       "      <th>P</th>\n",
       "      <td>1.851852</td>\n",
       "    </tr>\n",
       "  </tbody>\n",
       "</table>\n",
       "</div>"
      ],
      "text/plain": [
       "                                      overall_odds\n",
       "url                         category              \n",
       "http://0-101.net            G             2.155963\n",
       "http://000.cc               G             1.460583\n",
       "http://0000.jp              G            14.488244\n",
       "http://000relationships.com G             9.914590\n",
       "                            P             1.851852"
      ]
     },
     "execution_count": 23,
     "metadata": {},
     "output_type": "execute_result"
    }
   ],
   "source": [
    "overall_odds = overall_odds.rename(columns= {'odds': 'overall_odds'})\n",
    "overall_odds.head(5)"
   ]
  },
  {
   "cell_type": "markdown",
   "metadata": {},
   "source": [
    "## 8. Predicted categories"
   ]
  },
  {
   "cell_type": "code",
   "execution_count": 24,
   "metadata": {},
   "outputs": [],
   "source": [
    "# getting max value for a group\n",
    "result_75 = overall_odds.sort_values('overall_odds').groupby(level=0).tail(1).sort_values('url')"
   ]
  },
  {
   "cell_type": "code",
   "execution_count": 25,
   "metadata": {},
   "outputs": [
    {
     "data": {
      "text/html": [
       "<div>\n",
       "<style scoped>\n",
       "    .dataframe tbody tr th:only-of-type {\n",
       "        vertical-align: middle;\n",
       "    }\n",
       "\n",
       "    .dataframe tbody tr th {\n",
       "        vertical-align: top;\n",
       "    }\n",
       "\n",
       "    .dataframe thead th {\n",
       "        text-align: right;\n",
       "    }\n",
       "</style>\n",
       "<table border=\"1\" class=\"dataframe\">\n",
       "  <thead>\n",
       "    <tr style=\"text-align: right;\">\n",
       "      <th></th>\n",
       "      <th>top_category</th>\n",
       "      <th>top_odds</th>\n",
       "    </tr>\n",
       "    <tr>\n",
       "      <th>url</th>\n",
       "      <th></th>\n",
       "      <th></th>\n",
       "    </tr>\n",
       "  </thead>\n",
       "  <tbody>\n",
       "    <tr>\n",
       "      <th>http://0-101.net</th>\n",
       "      <td>G</td>\n",
       "      <td>2.155963</td>\n",
       "    </tr>\n",
       "    <tr>\n",
       "      <th>http://000.cc</th>\n",
       "      <td>G</td>\n",
       "      <td>1.460583</td>\n",
       "    </tr>\n",
       "    <tr>\n",
       "      <th>http://0000.jp</th>\n",
       "      <td>G</td>\n",
       "      <td>14.488244</td>\n",
       "    </tr>\n",
       "    <tr>\n",
       "      <th>http://000relationships.com</th>\n",
       "      <td>G</td>\n",
       "      <td>9.914590</td>\n",
       "    </tr>\n",
       "    <tr>\n",
       "      <th>http://000vitamins.com</th>\n",
       "      <td>G</td>\n",
       "      <td>3.784982</td>\n",
       "    </tr>\n",
       "    <tr>\n",
       "      <th>...</th>\n",
       "      <td>...</td>\n",
       "      <td>...</td>\n",
       "    </tr>\n",
       "    <tr>\n",
       "      <th>http://zwinky.com</th>\n",
       "      <td>G</td>\n",
       "      <td>16.141443</td>\n",
       "    </tr>\n",
       "    <tr>\n",
       "      <th>http://zylom.com</th>\n",
       "      <td>G</td>\n",
       "      <td>1.735526</td>\n",
       "    </tr>\n",
       "    <tr>\n",
       "      <th>http://zynga.com</th>\n",
       "      <td>G</td>\n",
       "      <td>3.704611</td>\n",
       "    </tr>\n",
       "    <tr>\n",
       "      <th>http://zz868.com</th>\n",
       "      <td>P</td>\n",
       "      <td>1.851852</td>\n",
       "    </tr>\n",
       "    <tr>\n",
       "      <th>http://zzx.cc</th>\n",
       "      <td>X</td>\n",
       "      <td>1.620746</td>\n",
       "    </tr>\n",
       "  </tbody>\n",
       "</table>\n",
       "<p>10610 rows × 2 columns</p>\n",
       "</div>"
      ],
      "text/plain": [
       "                            top_category   top_odds\n",
       "url                                                \n",
       "http://0-101.net                       G   2.155963\n",
       "http://000.cc                          G   1.460583\n",
       "http://0000.jp                         G  14.488244\n",
       "http://000relationships.com            G   9.914590\n",
       "http://000vitamins.com                 G   3.784982\n",
       "...                                  ...        ...\n",
       "http://zwinky.com                      G  16.141443\n",
       "http://zylom.com                       G   1.735526\n",
       "http://zynga.com                       G   3.704611\n",
       "http://zz868.com                       P   1.851852\n",
       "http://zzx.cc                          X   1.620746\n",
       "\n",
       "[10610 rows x 2 columns]"
      ]
     },
     "execution_count": 25,
     "metadata": {},
     "output_type": "execute_result"
    }
   ],
   "source": [
    "# creating the result_75 frame\n",
    "result_75 = result_75.reset_index()\n",
    "result_75.columns = ['url', 'top_category', 'top_odds']\n",
    "result_75.index = result_75['url']\n",
    "result_75 = result_75.drop('url', axis=1)\n",
    "result_75"
   ]
  },
  {
   "cell_type": "markdown",
   "metadata": {},
   "source": [
    "## 9. Predicted categories using more turks"
   ]
  },
  {
   "cell_type": "code",
   "execution_count": 26,
   "metadata": {},
   "outputs": [],
   "source": [
    "# getting the top 75% turks\n",
    "turks_greater_than25 = rater_goodness.reset_index()[rater_goodness.reset_index()['total_ratings'].rank(pct=True) > 0.25]"
   ]
  },
  {
   "cell_type": "code",
   "execution_count": 27,
   "metadata": {},
   "outputs": [],
   "source": [
    "# joining urls not in gold dataset with rater goodness dataset to get the odds ratio\n",
    "overall_odds_25 = labels_unknown.merge(turks_greater_than25, left_on=['turk'], right_on=['turk'], how='inner')"
   ]
  },
  {
   "cell_type": "code",
   "execution_count": 28,
   "metadata": {},
   "outputs": [],
   "source": [
    "# getting the product of of odds for a 'url' and 'category'\n",
    "overall_odds_25 = overall_odds_25.groupby(['url', 'category'])[['odds']].prod()"
   ]
  },
  {
   "cell_type": "code",
   "execution_count": 29,
   "metadata": {},
   "outputs": [],
   "source": [
    "result_25 = overall_odds_25.sort_values('odds').groupby(level=0).tail(1).sort_values('url')"
   ]
  },
  {
   "cell_type": "code",
   "execution_count": 30,
   "metadata": {},
   "outputs": [
    {
     "data": {
      "text/html": [
       "<div>\n",
       "<style scoped>\n",
       "    .dataframe tbody tr th:only-of-type {\n",
       "        vertical-align: middle;\n",
       "    }\n",
       "\n",
       "    .dataframe tbody tr th {\n",
       "        vertical-align: top;\n",
       "    }\n",
       "\n",
       "    .dataframe thead th {\n",
       "        text-align: right;\n",
       "    }\n",
       "</style>\n",
       "<table border=\"1\" class=\"dataframe\">\n",
       "  <thead>\n",
       "    <tr style=\"text-align: right;\">\n",
       "      <th></th>\n",
       "      <th>top_category</th>\n",
       "      <th>top_odds</th>\n",
       "    </tr>\n",
       "    <tr>\n",
       "      <th>url</th>\n",
       "      <th></th>\n",
       "      <th></th>\n",
       "    </tr>\n",
       "  </thead>\n",
       "  <tbody>\n",
       "    <tr>\n",
       "      <th>http://0-101.net</th>\n",
       "      <td>G</td>\n",
       "      <td>2.155963e+00</td>\n",
       "    </tr>\n",
       "    <tr>\n",
       "      <th>http://000.cc</th>\n",
       "      <td>G</td>\n",
       "      <td>2.181050e+03</td>\n",
       "    </tr>\n",
       "    <tr>\n",
       "      <th>http://0000.jp</th>\n",
       "      <td>G</td>\n",
       "      <td>2.877556e+07</td>\n",
       "    </tr>\n",
       "    <tr>\n",
       "      <th>http://000relationships.com</th>\n",
       "      <td>P</td>\n",
       "      <td>1.851852e+00</td>\n",
       "    </tr>\n",
       "    <tr>\n",
       "      <th>http://000vitamins.com</th>\n",
       "      <td>G</td>\n",
       "      <td>5.014149e+00</td>\n",
       "    </tr>\n",
       "  </tbody>\n",
       "</table>\n",
       "</div>"
      ],
      "text/plain": [
       "                            top_category      top_odds\n",
       "url                                                   \n",
       "http://0-101.net                       G  2.155963e+00\n",
       "http://000.cc                          G  2.181050e+03\n",
       "http://0000.jp                         G  2.877556e+07\n",
       "http://000relationships.com            P  1.851852e+00\n",
       "http://000vitamins.com                 G  5.014149e+00"
      ]
     },
     "execution_count": 30,
     "metadata": {},
     "output_type": "execute_result"
    }
   ],
   "source": [
    "result_25 = result_25.reset_index()\n",
    "result_25.columns = ['url', 'top_category', 'top_odds']\n",
    "result_25.index = result_25['url']\n",
    "result_25 = result_25.drop('url', axis=1)\n",
    "result_25.head(5)"
   ]
  },
  {
   "cell_type": "code",
   "execution_count": 31,
   "metadata": {},
   "outputs": [
    {
     "data": {
      "text/html": [
       "<div>\n",
       "<style scoped>\n",
       "    .dataframe tbody tr th:only-of-type {\n",
       "        vertical-align: middle;\n",
       "    }\n",
       "\n",
       "    .dataframe tbody tr th {\n",
       "        vertical-align: top;\n",
       "    }\n",
       "\n",
       "    .dataframe thead th {\n",
       "        text-align: right;\n",
       "    }\n",
       "</style>\n",
       "<table border=\"1\" class=\"dataframe\">\n",
       "  <thead>\n",
       "    <tr style=\"text-align: right;\">\n",
       "      <th></th>\n",
       "      <th>top_category</th>\n",
       "      <th>top_odds</th>\n",
       "    </tr>\n",
       "    <tr>\n",
       "      <th>url</th>\n",
       "      <th></th>\n",
       "      <th></th>\n",
       "    </tr>\n",
       "  </thead>\n",
       "  <tbody>\n",
       "    <tr>\n",
       "      <th>http://0-101.net</th>\n",
       "      <td>G</td>\n",
       "      <td>2.155963e+00</td>\n",
       "    </tr>\n",
       "    <tr>\n",
       "      <th>http://000.cc</th>\n",
       "      <td>G</td>\n",
       "      <td>2.181050e+03</td>\n",
       "    </tr>\n",
       "    <tr>\n",
       "      <th>http://0000.jp</th>\n",
       "      <td>G</td>\n",
       "      <td>2.877556e+07</td>\n",
       "    </tr>\n",
       "    <tr>\n",
       "      <th>http://000relationships.com</th>\n",
       "      <td>P</td>\n",
       "      <td>1.851852e+00</td>\n",
       "    </tr>\n",
       "    <tr>\n",
       "      <th>http://000vitamins.com</th>\n",
       "      <td>G</td>\n",
       "      <td>5.014149e+00</td>\n",
       "    </tr>\n",
       "    <tr>\n",
       "      <th>...</th>\n",
       "      <td>...</td>\n",
       "      <td>...</td>\n",
       "    </tr>\n",
       "    <tr>\n",
       "      <th>http://zwinky.com</th>\n",
       "      <td>P</td>\n",
       "      <td>1.000000e+03</td>\n",
       "    </tr>\n",
       "    <tr>\n",
       "      <th>http://zylom.com</th>\n",
       "      <td>G</td>\n",
       "      <td>2.873345e+03</td>\n",
       "    </tr>\n",
       "    <tr>\n",
       "      <th>http://zynga.com</th>\n",
       "      <td>G</td>\n",
       "      <td>5.442125e+01</td>\n",
       "    </tr>\n",
       "    <tr>\n",
       "      <th>http://zz868.com</th>\n",
       "      <td>G</td>\n",
       "      <td>1.209566e+13</td>\n",
       "    </tr>\n",
       "    <tr>\n",
       "      <th>http://zzx.cc</th>\n",
       "      <td>X</td>\n",
       "      <td>1.620746e+00</td>\n",
       "    </tr>\n",
       "  </tbody>\n",
       "</table>\n",
       "<p>10700 rows × 2 columns</p>\n",
       "</div>"
      ],
      "text/plain": [
       "                            top_category      top_odds\n",
       "url                                                   \n",
       "http://0-101.net                       G  2.155963e+00\n",
       "http://000.cc                          G  2.181050e+03\n",
       "http://0000.jp                         G  2.877556e+07\n",
       "http://000relationships.com            P  1.851852e+00\n",
       "http://000vitamins.com                 G  5.014149e+00\n",
       "...                                  ...           ...\n",
       "http://zwinky.com                      P  1.000000e+03\n",
       "http://zylom.com                       G  2.873345e+03\n",
       "http://zynga.com                       G  5.442125e+01\n",
       "http://zz868.com                       G  1.209566e+13\n",
       "http://zzx.cc                          X  1.620746e+00\n",
       "\n",
       "[10700 rows x 2 columns]"
      ]
     },
     "execution_count": 31,
     "metadata": {},
     "output_type": "execute_result"
    }
   ],
   "source": [
    "result_25"
   ]
  },
  {
   "cell_type": "code",
   "execution_count": 32,
   "metadata": {},
   "outputs": [],
   "source": [
    "overall_odds_merged = result_75.merge(result_25, left_index=True, right_index=True, suffixes=['_75', '_25'])"
   ]
  },
  {
   "cell_type": "code",
   "execution_count": 33,
   "metadata": {},
   "outputs": [
    {
     "data": {
      "text/html": [
       "<div>\n",
       "<style scoped>\n",
       "    .dataframe tbody tr th:only-of-type {\n",
       "        vertical-align: middle;\n",
       "    }\n",
       "\n",
       "    .dataframe tbody tr th {\n",
       "        vertical-align: top;\n",
       "    }\n",
       "\n",
       "    .dataframe thead th {\n",
       "        text-align: right;\n",
       "    }\n",
       "</style>\n",
       "<table border=\"1\" class=\"dataframe\">\n",
       "  <thead>\n",
       "    <tr style=\"text-align: right;\">\n",
       "      <th>top_category_25</th>\n",
       "      <th>G</th>\n",
       "      <th>P</th>\n",
       "      <th>R</th>\n",
       "      <th>X</th>\n",
       "    </tr>\n",
       "    <tr>\n",
       "      <th>top_category_75</th>\n",
       "      <th></th>\n",
       "      <th></th>\n",
       "      <th></th>\n",
       "      <th></th>\n",
       "    </tr>\n",
       "  </thead>\n",
       "  <tbody>\n",
       "    <tr>\n",
       "      <th>G</th>\n",
       "      <td>8328</td>\n",
       "      <td>562</td>\n",
       "      <td>175</td>\n",
       "      <td>202</td>\n",
       "    </tr>\n",
       "    <tr>\n",
       "      <th>P</th>\n",
       "      <td>181</td>\n",
       "      <td>335</td>\n",
       "      <td>53</td>\n",
       "      <td>15</td>\n",
       "    </tr>\n",
       "    <tr>\n",
       "      <th>R</th>\n",
       "      <td>21</td>\n",
       "      <td>35</td>\n",
       "      <td>130</td>\n",
       "      <td>27</td>\n",
       "    </tr>\n",
       "    <tr>\n",
       "      <th>X</th>\n",
       "      <td>34</td>\n",
       "      <td>9</td>\n",
       "      <td>29</td>\n",
       "      <td>474</td>\n",
       "    </tr>\n",
       "  </tbody>\n",
       "</table>\n",
       "</div>"
      ],
      "text/plain": [
       "top_category_25     G    P    R    X\n",
       "top_category_75                     \n",
       "G                8328  562  175  202\n",
       "P                 181  335   53   15\n",
       "R                  21   35  130   27\n",
       "X                  34    9   29  474"
      ]
     },
     "execution_count": 33,
     "metadata": {},
     "output_type": "execute_result"
    }
   ],
   "source": [
    "# creating crosstab for predictions, this shows the total number of URLs of baseline vs. predicted\n",
    "pd.crosstab(overall_odds_merged[\"top_category_75\"], overall_odds_merged[\"top_category_25\"])"
   ]
  },
  {
   "cell_type": "code",
   "execution_count": 34,
   "metadata": {},
   "outputs": [
    {
     "data": {
      "text/html": [
       "<div>\n",
       "<style scoped>\n",
       "    .dataframe tbody tr th:only-of-type {\n",
       "        vertical-align: middle;\n",
       "    }\n",
       "\n",
       "    .dataframe tbody tr th {\n",
       "        vertical-align: top;\n",
       "    }\n",
       "\n",
       "    .dataframe thead th {\n",
       "        text-align: right;\n",
       "    }\n",
       "</style>\n",
       "<table border=\"1\" class=\"dataframe\">\n",
       "  <thead>\n",
       "    <tr style=\"text-align: right;\">\n",
       "      <th>top_category_25</th>\n",
       "      <th>G</th>\n",
       "      <th>P</th>\n",
       "      <th>R</th>\n",
       "      <th>X</th>\n",
       "    </tr>\n",
       "    <tr>\n",
       "      <th>top_category_75</th>\n",
       "      <th></th>\n",
       "      <th></th>\n",
       "      <th></th>\n",
       "      <th></th>\n",
       "    </tr>\n",
       "  </thead>\n",
       "  <tbody>\n",
       "    <tr>\n",
       "      <th>G</th>\n",
       "      <td>0.898673</td>\n",
       "      <td>0.060645</td>\n",
       "      <td>0.018884</td>\n",
       "      <td>0.021798</td>\n",
       "    </tr>\n",
       "    <tr>\n",
       "      <th>P</th>\n",
       "      <td>0.309932</td>\n",
       "      <td>0.573630</td>\n",
       "      <td>0.090753</td>\n",
       "      <td>0.025685</td>\n",
       "    </tr>\n",
       "    <tr>\n",
       "      <th>R</th>\n",
       "      <td>0.098592</td>\n",
       "      <td>0.164319</td>\n",
       "      <td>0.610329</td>\n",
       "      <td>0.126761</td>\n",
       "    </tr>\n",
       "    <tr>\n",
       "      <th>X</th>\n",
       "      <td>0.062271</td>\n",
       "      <td>0.016484</td>\n",
       "      <td>0.053114</td>\n",
       "      <td>0.868132</td>\n",
       "    </tr>\n",
       "  </tbody>\n",
       "</table>\n",
       "</div>"
      ],
      "text/plain": [
       "top_category_25         G         P         R         X\n",
       "top_category_75                                        \n",
       "G                0.898673  0.060645  0.018884  0.021798\n",
       "P                0.309932  0.573630  0.090753  0.025685\n",
       "R                0.098592  0.164319  0.610329  0.126761\n",
       "X                0.062271  0.016484  0.053114  0.868132"
      ]
     },
     "execution_count": 34,
     "metadata": {},
     "output_type": "execute_result"
    }
   ],
   "source": [
    "# creating crosstab for predictions, this shows the error of baseline vs. predicted\n",
    "pd.crosstab(overall_odds_merged[\"top_category_75\"], overall_odds_merged[\"top_category_25\"], normalize='index')\n",
    "# most mistakes happen while predicting P because it has the lowest value (accuracy) in this crosstab"
   ]
  }
 ],
 "metadata": {
  "kernelspec": {
   "display_name": "Python 3",
   "language": "python",
   "name": "python3"
  },
  "language_info": {
   "codemirror_mode": {
    "name": "ipython",
    "version": 3
   },
   "file_extension": ".py",
   "mimetype": "text/x-python",
   "name": "python",
   "nbconvert_exporter": "python",
   "pygments_lexer": "ipython3",
   "version": "3.6.10"
  }
 },
 "nbformat": 4,
 "nbformat_minor": 4
}
